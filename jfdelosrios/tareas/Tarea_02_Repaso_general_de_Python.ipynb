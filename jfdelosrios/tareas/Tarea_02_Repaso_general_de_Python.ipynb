{
 "cells": [
  {
   "cell_type": "markdown",
   "metadata": {
    "colab_type": "text",
    "id": "view-in-github"
   },
   "source": [
    "<a href=\"https://colab.research.google.com/github/jfdelosrios/r-basic/blob/master/tareas/02.ipynb\" target=\"_parent\"><img src=\"https://colab.research.google.com/assets/colab-badge.svg\" alt=\"Open In Colab\"/></a>"
   ]
  },
  {
   "cell_type": "markdown",
   "metadata": {
    "id": "jugv5KAaTDA2"
   },
   "source": [
    "# Tarea 02"
   ]
  },
  {
   "cell_type": "markdown",
   "metadata": {
    "id": "fRTgNuEaTal7"
   },
   "source": [
    "1. Escribe una secuencia de instrucciones que permitan leer un número real por pantalla y que muestre si el número es positivo o no."
   ]
  },
  {
   "cell_type": "code",
   "execution_count": null,
   "metadata": {
    "colab": {
     "base_uri": "https://localhost:8080/"
    },
    "id": "WgUsk7dbUG4y",
    "outputId": "15aeaa0a-010f-4e3a-b985-0bc4dd70aca8",
    "scrolled": true
   },
   "outputs": [],
   "source": [
    "def evaluarNumero():  \n",
    "    \"\"\"Evaluar el signo de un numero.\"\"\"\n",
    "\n",
    "    try:\n",
    "        numero = float(input(\"Escriba un número: \"))\n",
    "    except:\n",
    "        return 'No insertaste un numero.'\n",
    "\n",
    "    if numero < 0:\n",
    "        return \"Es negativo\"\n",
    "    else:\n",
    "        return \"Es positivo\"\n",
    "    \n",
    "print(evaluarNumero())"
   ]
  },
  {
   "cell_type": "markdown",
   "metadata": {
    "id": "zcWcyLTRTdd0"
   },
   "source": [
    "2. Escribe una secuencia de instrucciones que permitan leer un número real por pantalla y que muestre si el número está en el rango entre -5 y 5"
   ]
  },
  {
   "cell_type": "code",
   "execution_count": null,
   "metadata": {
    "id": "2XZ8ed_DUHSC"
   },
   "outputs": [],
   "source": [
    "def main() -> str:\n",
    "    \"\"\" \"\"\"\n",
    "\n",
    "    try:\n",
    "        numero = float(input(\"Escriba un número: \"))\n",
    "    except ValueError as error:\n",
    "        return 'No insertaste un numero.'\n",
    "\n",
    "    if ((numero >= -5) and (numero <= 5)):\n",
    "        return(\"el numero esta en el rango entre -5 y 5\")\n",
    "    else:\n",
    "        return(\"el numero no esta en el rango entre -5 y 5\")\n",
    "\n",
    "\n",
    "print(main())"
   ]
  },
  {
   "cell_type": "markdown",
   "metadata": {
    "id": "eWqSkGGrTlfj"
   },
   "source": [
    "3. Escribe una secuencia de instrucciones que permitan leer las coordenadas de un punto (x, y) e indique en cuál de los cuatro cuadrantes se encuentra dicho punto."
   ]
  },
  {
   "cell_type": "code",
   "execution_count": null,
   "metadata": {
    "id": "W93VJrwhUHgq"
   },
   "outputs": [],
   "source": [
    "def main() -> str:\n",
    "    \"\"\" \"\"\"\n",
    "    \n",
    "    try:\n",
    "        x = float(input(\"Escriba coordenada x: \"))\n",
    "    except ValueError as error:\n",
    "        return 'No insertaste un numero.'\n",
    "\n",
    "    try:\n",
    "        y = float(input(\"Escriba coordenada y: \"))\n",
    "    except ValueError as error:\n",
    "        return 'No insertaste un numero.'\n",
    "\n",
    "    if ((x == 0) or (y == 0)):\n",
    "        return(\"cuadrante no definido\")\n",
    "\n",
    "    if ((x > 0) and (y > 0)):\n",
    "        return(\"esta en cuadrante 1\")\n",
    "\n",
    "    if ((x < 0) and (y > 0)):\n",
    "        return(\"esta en cuadrante 2\")\n",
    "\n",
    "    if ((x < 0) and (y < 0)):\n",
    "        return(\"esta en cuadrante 3\")\n",
    "\n",
    "    if ((x > 0) and (y < 0)):\n",
    "        return(\"esta en cuadrante 4\")\n",
    "\n",
    "\n",
    "print(main())"
   ]
  },
  {
   "cell_type": "markdown",
   "metadata": {
    "id": "Dm_pfFsvToxD"
   },
   "source": [
    "4. Escribe una secuencia de instrucciones que permitan leer dos números enteros y muestre el cociente de la división entera y el resto."
   ]
  },
  {
   "cell_type": "code",
   "execution_count": null,
   "metadata": {
    "id": "_v-Qx0AqUIB7"
   },
   "outputs": [],
   "source": [
    "def main() -> str:\n",
    "    \"\"\" \"\"\"\n",
    "    \n",
    "    try:\n",
    "        numerador = int(input(\"Escriba numerador: \"))\n",
    "    except ValueError as error:\n",
    "        return 'No insertaste un numero.'\n",
    "    \n",
    "    try:\n",
    "        denominador = int(input(\"Escriba denominador: \"))\n",
    "    except ValueError as error:\n",
    "        return 'No insertaste un numero.'\n",
    "    \n",
    "    return \"cociente: {}\\nmodulo: {}\".format(numerador//denominador, numerador%denominador)\n",
    "\n",
    "\n",
    "print(main())"
   ]
  },
  {
   "cell_type": "markdown",
   "metadata": {
    "id": "1ERiVuA-TshC"
   },
   "source": [
    "5. Escribe una secuencia de instrucciones que permitan leer un número entero es cuadrado perfecto o no (piensa la mejor forma de hacerlo con lo que has aprendido hasta ahora)"
   ]
  },
  {
   "cell_type": "code",
   "execution_count": null,
   "metadata": {
    "id": "nSHvKEG_UIcV"
   },
   "outputs": [],
   "source": [
    "import math\n",
    "\n",
    "\n",
    "def main() -> str:\n",
    "    \"\"\" \"\"\"\n",
    "    \n",
    "    try:\n",
    "        numero = int(input(\"Escriba un número positivo: \"))\n",
    "    except ValueError as error:\n",
    "        return 'No insertaste un numero.'\n",
    "\n",
    "    raiz=math.sqrt(numero)\n",
    "\n",
    "    if ((numero == math.pow(raiz,2))):\n",
    "        return(\"es cuadrado perfecto\")\n",
    "    else:\n",
    "        return(\"no es cuadrado perfecto\")\n",
    "\n",
    "\n",
    "print(main())"
   ]
  },
  {
   "cell_type": "markdown",
   "metadata": {
    "id": "PjuFymmJTw8i"
   },
   "source": [
    "6. Escribe una expresión que permita determinar si un número entero positivo puede corresponder a un año bisiesto o no. Se consideran años bisiestos aquellos cuyo número es divisible por cuatro excepto los años que son múltiplos de 100, a no ser que lo sean de 400 (por ejemplo el año 2000 fue bisiesto pero el 2100 no lo será)."
   ]
  },
  {
   "cell_type": "code",
   "execution_count": null,
   "metadata": {
    "id": "JAjQOks6UI2T"
   },
   "outputs": [],
   "source": [
    "\n",
    "def main() -> str:\n",
    "    \"\"\" \"\"\"\n",
    "    \n",
    "    try:\n",
    "        anno = int(input(\"Escriba anno: \"))\n",
    "    except ValueError as error:\n",
    "        return 'No insertaste un numero.'\n",
    "        \n",
    "    if anno % 4 == 0:\n",
    "        if anno % 100 == 0:\n",
    "            if anno % 400 == 0:\n",
    "                print('El anno es bisiesto')\n",
    "            else:\n",
    "                print('El anno no es bisiesto')\n",
    "        else:\n",
    "            print('El anno es bisiesto.')\n",
    "    else:\n",
    "        print('El anno no es bisiesto.')\n",
    "\n",
    "\n",
    "print(main())"
   ]
  },
  {
   "cell_type": "markdown",
   "metadata": {
    "id": "2Cdm3KBkT1bi"
   },
   "source": [
    "7. Busca la imagen de un tablero de ajedrez en Google y fíjate en la nomenclatura de las casillas. Escribe una expresión lea una letra y un número de teclado correspondiente a una casilla de un tablero de ajedrez y nos indique si esta casilla es negra o blanca."
   ]
  },
  {
   "cell_type": "code",
   "execution_count": null,
   "metadata": {
    "id": "THixMSD3JFBV"
   },
   "outputs": [],
   "source": [
    "while (True):\n",
    "\n",
    "    letra = input(\"Escriba un letra entre A-H: \")\n",
    "\n",
    "    letra=ord(letra)\n",
    "    if ((letra >= 65) and (letra <= 72)):\n",
    "        break;\n",
    "\n",
    "while (True):\n",
    "    \n",
    "    try:\n",
    "        numero = int(input(\"Escriba un número positivo entre 1 y 8: \"))\n",
    "    except ValueError as error:\n",
    "        continue\n",
    "\n",
    "    if ((numero>=1)and(numero<=8)):\n",
    "        break;\n",
    "\n",
    "if (((numero + letra) % 2) == 0):\n",
    "    print('casilla blanca')\n",
    "else:\n",
    "    print('casilla negra')"
   ]
  }
 ],
 "metadata": {
  "colab": {
   "authorship_tag": "ABX9TyOQBSy7UzJsWLwwojnmkcfa",
   "include_colab_link": true,
   "name": "02.ipynb",
   "provenance": []
  },
  "interpreter": {
   "hash": "3aeeaa0a7790e110558b40d74fe5dfa47c187372692c2ff3595f9ab5bcf96ba2"
  },
  "kernelspec": {
   "display_name": "Python 3.9.13 ('.env': venv)",
   "language": "python",
   "name": "python3"
  },
  "language_info": {
   "codemirror_mode": {
    "name": "ipython",
    "version": 3
   },
   "file_extension": ".py",
   "mimetype": "text/x-python",
   "name": "python",
   "nbconvert_exporter": "python",
   "pygments_lexer": "ipython3",
   "version": "3.9.13"
  }
 },
 "nbformat": 4,
 "nbformat_minor": 1
}
