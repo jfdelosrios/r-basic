{
 "cells": [
  {
   "cell_type": "code",
   "execution_count": null,
   "metadata": {
    "id": "dmrZWl1tUOZ_"
   },
   "outputs": [],
   "source": [
    "from sympy import I, Abs"
   ]
  },
  {
   "cell_type": "code",
   "execution_count": null,
   "metadata": {
    "colab": {
     "base_uri": "https://localhost:8080/",
     "height": 37
    },
    "executionInfo": {
     "elapsed": 272,
     "status": "ok",
     "timestamp": 1629158918463,
     "user": {
      "displayName": "Jorge Fernando De Los Ríos De Los Ríos",
      "photoUrl": "",
      "userId": "06943691612158903910"
     },
     "user_tz": 300
    },
    "id": "QCitc2AcVGvY",
    "outputId": "1038b2af-8331-4214-973d-4b6dcf6b89d6"
   },
   "outputs": [
    {
     "data": {
      "text/latex": [
       "$\\displaystyle 1.378$"
      ],
      "text/plain": [
       "1.378"
      ]
     },
     "execution_count": 87,
     "metadata": {
      "tags": []
     },
     "output_type": "execute_result"
    }
   ],
   "source": [
    "Abs(((2+3*I)**2/(5+8*I))).round(3)"
   ]
  },
  {
   "cell_type": "code",
   "execution_count": null,
   "metadata": {
    "id": "VoAaPPSPbWNk"
   },
   "outputs": [],
   "source": []
  }
 ],
 "metadata": {
  "colab": {
   "authorship_tag": "ABX9TyOa5Wsdl2qXcRg1ZFemtadV",
   "collapsed_sections": [],
   "name": "Tarea_01.ipynb",
   "provenance": []
  },
  "kernelspec": {
   "display_name": "Python 3 (ipykernel)",
   "language": "python",
   "name": "python3"
  },
  "language_info": {
   "codemirror_mode": {
    "name": "ipython",
    "version": 3
   },
   "file_extension": ".py",
   "mimetype": "text/x-python",
   "name": "python",
   "nbconvert_exporter": "python",
   "pygments_lexer": "ipython3",
   "version": "3.9.6"
  }
 },
 "nbformat": 4,
 "nbformat_minor": 1
}
