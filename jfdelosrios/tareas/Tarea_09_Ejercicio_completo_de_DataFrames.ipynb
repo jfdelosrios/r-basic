{
  "nbformat": 4,
  "nbformat_minor": 0,
  "metadata": {
    "colab": {
      "name": "Tarea_09_Ejercicio_completo_de_DataFrames.ipynb",
      "provenance": [],
      "collapsed_sections": [],
      "authorship_tag": "ABX9TyOF9QYntjbfm8XVd4szNIHZ",
      "include_colab_link": true
    },
    "kernelspec": {
      "name": "python3",
      "display_name": "Python 3"
    },
    "language_info": {
      "name": "python"
    }
  },
  "cells": [
    {
      "cell_type": "markdown",
      "metadata": {
        "id": "view-in-github",
        "colab_type": "text"
      },
      "source": [
        "<a href=\"https://colab.research.google.com/github/jfdelosrios/r-basic/blob/master/tareas/Tarea_09_Ejercicio_completo_de_DataFrames.ipynb\" target=\"_parent\"><img src=\"https://colab.research.google.com/assets/colab-badge.svg\" alt=\"Open In Colab\"/></a>"
      ]
    },
    {
      "cell_type": "markdown",
      "metadata": {
        "id": "nZjHJy8L0g3t"
      },
      "source": [
        "Carga el CSV de la carpeta de datos del tema llamado run.csv y responde a las siguientes preguntas."
      ]
    },
    {
      "cell_type": "code",
      "metadata": {
        "colab": {
          "base_uri": "https://localhost:8080/",
          "height": 357
        },
        "id": "46101wL_0aqo",
        "outputId": "7f186ec1-ed1b-4074-e6d1-bf59647ac3f5"
      },
      "source": [
        "import pandas as pd\n",
        "\n",
        "df = pd.read_csv(\n",
        "      'https://raw.githubusercontent.com/joanby/r-basic/master/data/run.csv', \n",
        "      delimiter=\",\", \n",
        "      decimal=\".\", \n",
        "      index_col=[0],\n",
        "      dtype={\n",
        "          'hace.deporte':'category',\n",
        "          'fuma':'category',\n",
        "          'genero':'category',\n",
        "          'tipo.actividad':'category'\n",
        "      }\n",
        "    )\n",
        "\n",
        "print(df.dtypes)\n",
        "\n",
        "df.head()"
      ],
      "execution_count": 86,
      "outputs": [
        {
          "output_type": "stream",
          "text": [
            "pulso.antes          int64\n",
            "pulso.despues        int64\n",
            "hace.deporte      category\n",
            "fuma              category\n",
            "genero            category\n",
            "altura             float64\n",
            "peso                 int64\n",
            "tipo.actividad    category\n",
            "dtype: object\n"
          ],
          "name": "stdout"
        },
        {
          "output_type": "execute_result",
          "data": {
            "text/html": [
              "<div>\n",
              "<style scoped>\n",
              "    .dataframe tbody tr th:only-of-type {\n",
              "        vertical-align: middle;\n",
              "    }\n",
              "\n",
              "    .dataframe tbody tr th {\n",
              "        vertical-align: top;\n",
              "    }\n",
              "\n",
              "    .dataframe thead th {\n",
              "        text-align: right;\n",
              "    }\n",
              "</style>\n",
              "<table border=\"1\" class=\"dataframe\">\n",
              "  <thead>\n",
              "    <tr style=\"text-align: right;\">\n",
              "      <th></th>\n",
              "      <th>pulso.antes</th>\n",
              "      <th>pulso.despues</th>\n",
              "      <th>hace.deporte</th>\n",
              "      <th>fuma</th>\n",
              "      <th>genero</th>\n",
              "      <th>altura</th>\n",
              "      <th>peso</th>\n",
              "      <th>tipo.actividad</th>\n",
              "    </tr>\n",
              "  </thead>\n",
              "  <tbody>\n",
              "    <tr>\n",
              "      <th>1</th>\n",
              "      <td>48</td>\n",
              "      <td>54</td>\n",
              "      <td>no</td>\n",
              "      <td>si</td>\n",
              "      <td>H</td>\n",
              "      <td>68.0</td>\n",
              "      <td>150</td>\n",
              "      <td>nula</td>\n",
              "    </tr>\n",
              "    <tr>\n",
              "      <th>2</th>\n",
              "      <td>54</td>\n",
              "      <td>56</td>\n",
              "      <td>no</td>\n",
              "      <td>si</td>\n",
              "      <td>H</td>\n",
              "      <td>69.0</td>\n",
              "      <td>145</td>\n",
              "      <td>moderada</td>\n",
              "    </tr>\n",
              "    <tr>\n",
              "      <th>3</th>\n",
              "      <td>54</td>\n",
              "      <td>50</td>\n",
              "      <td>no</td>\n",
              "      <td>no</td>\n",
              "      <td>H</td>\n",
              "      <td>69.0</td>\n",
              "      <td>160</td>\n",
              "      <td>moderada</td>\n",
              "    </tr>\n",
              "    <tr>\n",
              "      <th>4</th>\n",
              "      <td>58</td>\n",
              "      <td>70</td>\n",
              "      <td>si</td>\n",
              "      <td>no</td>\n",
              "      <td>H</td>\n",
              "      <td>72.0</td>\n",
              "      <td>145</td>\n",
              "      <td>moderada</td>\n",
              "    </tr>\n",
              "    <tr>\n",
              "      <th>5</th>\n",
              "      <td>58</td>\n",
              "      <td>58</td>\n",
              "      <td>no</td>\n",
              "      <td>no</td>\n",
              "      <td>H</td>\n",
              "      <td>66.0</td>\n",
              "      <td>135</td>\n",
              "      <td>intensa</td>\n",
              "    </tr>\n",
              "  </tbody>\n",
              "</table>\n",
              "</div>"
            ],
            "text/plain": [
              "   pulso.antes  pulso.despues hace.deporte  ... altura peso  tipo.actividad\n",
              "1           48             54           no  ...   68.0  150            nula\n",
              "2           54             56           no  ...   69.0  145        moderada\n",
              "3           54             50           no  ...   69.0  160        moderada\n",
              "4           58             70           si  ...   72.0  145        moderada\n",
              "5           58             58           no  ...   66.0  135         intensa\n",
              "\n",
              "[5 rows x 8 columns]"
            ]
          },
          "metadata": {
            "tags": []
          },
          "execution_count": 86
        }
      ]
    },
    {
      "cell_type": "markdown",
      "metadata": {
        "id": "x0GusJ3ZxV-6"
      },
      "source": [
        "1. Indica cuantos estudiantes formaron parte del estudio de deporte"
      ]
    },
    {
      "cell_type": "code",
      "metadata": {
        "colab": {
          "base_uri": "https://localhost:8080/"
        },
        "id": "zX2NrXJ5xU0b",
        "outputId": "5f12e2cc-62c2-4eda-a822-ff18adc2f79d"
      },
      "source": [
        "print(\"Numero de estudiantes: {}\".format(len(df)));"
      ],
      "execution_count": 87,
      "outputs": [
        {
          "output_type": "stream",
          "text": [
            "Numero de estudiantes: 92\n"
          ],
          "name": "stdout"
        }
      ]
    },
    {
      "cell_type": "markdown",
      "metadata": {
        "id": "DzYVfzUextp3"
      },
      "source": [
        "2. Indica cuantos individuos son hombres y cuantos son mujeres"
      ]
    },
    {
      "cell_type": "code",
      "metadata": {
        "colab": {
          "base_uri": "https://localhost:8080/"
        },
        "id": "fS7xGIWnxxK2",
        "outputId": "1e066240-6bbb-4bb6-c492-91a261d05142"
      },
      "source": [
        "print(\"Numero de hombres: {}\".format(len(df[df.genero == \"H\"])));\n",
        "print(\"Numero de mujeres: {}\".format(len(df[df.genero == \"M}\"])));"
      ],
      "execution_count": 88,
      "outputs": [
        {
          "output_type": "stream",
          "text": [
            "Numero de hombres: 57\n",
            "Numero de mujeres: 0\n"
          ],
          "name": "stdout"
        }
      ]
    },
    {
      "cell_type": "markdown",
      "metadata": {
        "id": "oY1jqnSpx1Ep"
      },
      "source": [
        "3. Calcula el porcentaje medio de variación del pulso por minuto entre antes y después de hacer ejercicio y compara el valor de los que hacen ejercicio habitualmente y los que no. ¿Observas mucha diferencia?"
      ]
    },
    {
      "cell_type": "code",
      "metadata": {
        "colab": {
          "base_uri": "https://localhost:8080/",
          "height": 299
        },
        "id": "YjX7KmGbx4PF",
        "outputId": "7666e82c-cb85-47ae-9123-f1e28d2db418"
      },
      "source": [
        "df['tasa'] = df['pulso.despues']/df['pulso.antes'] - 1\n",
        "    \n",
        "df.groupby(by= ['hace.deporte']).mean()['tasa'].plot(kind = 'bar')"
      ],
      "execution_count": 89,
      "outputs": [
        {
          "output_type": "execute_result",
          "data": {
            "text/plain": [
              "<matplotlib.axes._subplots.AxesSubplot at 0x7fc0fa7037d0>"
            ]
          },
          "metadata": {
            "tags": []
          },
          "execution_count": 89
        },
        {
          "output_type": "display_data",
          "data": {
            "image/png": "[encoded data removed]",
            "text/plain": [
              "<Figure size 432x288 with 1 Axes>"
            ]
          },
          "metadata": {
            "tags": [],
            "needs_background": "light"
          }
        }
      ]
    },
    {
      "cell_type": "markdown",
      "metadata": {
        "id": "gQZcdCPRx911"
      },
      "source": [
        "Calcula el porcentaje medio de variación del pulso por minuto entre antes y después de hacer ejercicio  para los estudiantes que hacen ejercicio habitualmente y compara el valor de los hombres con el de las mujeres. ¿Observas mucha diferencia?"
      ]
    },
    {
      "cell_type": "code",
      "metadata": {
        "colab": {
          "base_uri": "https://localhost:8080/",
          "height": 295
        },
        "id": "MIfnzqEtyIbH",
        "outputId": "02a466a7-ab94-41be-9d79-3e10220391f9"
      },
      "source": [
        "df['tasa'] = df['pulso.despues']/df['pulso.antes'] - 1\n",
        "    \n",
        "df[df['hace.deporte'] == \"si\"].groupby(by= [\"genero\"]).mean()['tasa'].plot(kind = 'bar')"
      ],
      "execution_count": 90,
      "outputs": [
        {
          "output_type": "execute_result",
          "data": {
            "text/plain": [
              "<matplotlib.axes._subplots.AxesSubplot at 0x7fc0fa5bed90>"
            ]
          },
          "metadata": {
            "tags": []
          },
          "execution_count": 90
        },
        {
          "output_type": "display_data",
          "data": {
            "image/png": "[encoded data removed]",
            "text/plain": [
              "<Figure size 432x288 with 1 Axes>"
            ]
          },
          "metadata": {
            "tags": [],
            "needs_background": "light"
          }
        }
      ]
    },
    {
      "cell_type": "markdown",
      "metadata": {
        "id": "xPGOQ_V44keM"
      },
      "source": [
        "Las mujeres tienden a agitarse mas que los hombres."
      ]
    },
    {
      "cell_type": "markdown",
      "metadata": {
        "id": "6TEwT_AXyOuw"
      },
      "source": [
        "Calcula el porcentaje medio de variación del pulso por minuto entre antes y después de hacer ejercicio para los estudiantes que no hacen ejercicio habitualmente y compara el valor de los fumadores con los no fumadores. ¿Observas mucha diferencia?"
      ]
    },
    {
      "cell_type": "code",
      "metadata": {
        "colab": {
          "base_uri": "https://localhost:8080/",
          "height": 299
        },
        "id": "mWuJEUiJyUJA",
        "outputId": "4f556ae3-f45f-48ba-ac97-11379e14d34c"
      },
      "source": [
        "df['tasa'] = df['pulso.despues']/df['pulso.antes'] - 1\n",
        "          \n",
        "df[df['hace.deporte'] == \"no\"].groupby(by= [\"fuma\"]).mean()['tasa'].plot(kind = 'bar')"
      ],
      "execution_count": 91,
      "outputs": [
        {
          "output_type": "execute_result",
          "data": {
            "text/plain": [
              "<matplotlib.axes._subplots.AxesSubplot at 0x7fc0fa513b10>"
            ]
          },
          "metadata": {
            "tags": []
          },
          "execution_count": 91
        },
        {
          "output_type": "display_data",
          "data": {
            "image/png": "[encoded data removed]",
            "text/plain": [
              "<Figure size 432x288 with 1 Axes>"
            ]
          },
          "metadata": {
            "tags": [],
            "needs_background": "light"
          }
        }
      ]
    },
    {
      "cell_type": "markdown",
      "metadata": {
        "id": "VReGx-HY4dsN"
      },
      "source": [
        "El fumador se agita mas que el no fumador."
      ]
    },
    {
      "cell_type": "markdown",
      "metadata": {
        "id": "M2l4gjX3yXel"
      },
      "source": [
        "Calcula el porcentaje medio de variación del pulso por minuto entre antes y después de hacer ejercicio de todos los estudiantes según el tipo de actividad física que realizan. ¿Observas alguna diferencia?"
      ]
    },
    {
      "cell_type": "code",
      "metadata": {
        "colab": {
          "base_uri": "https://localhost:8080/",
          "height": 337
        },
        "id": "-vg4048lyZ1-",
        "outputId": "1ded7380-6dfe-4065-8c8f-4cc1a415f297"
      },
      "source": [
        "df['tasa'] = df['pulso.despues']/df['pulso.antes'] - 1\n",
        "          \n",
        "df.groupby(by= ['tipo.actividad']).mean()['tasa'].plot(kind = 'bar')"
      ],
      "execution_count": 92,
      "outputs": [
        {
          "output_type": "execute_result",
          "data": {
            "text/plain": [
              "<matplotlib.axes._subplots.AxesSubplot at 0x7fc0fa47bd90>"
            ]
          },
          "metadata": {
            "tags": []
          },
          "execution_count": 92
        },
        {
          "output_type": "display_data",
          "data": {
            "image/png": "[encoded data removed]",
            "text/plain": [
              "<Figure size 432x288 with 1 Axes>"
            ]
          },
          "metadata": {
            "tags": [],
            "needs_background": "light"
          }
        }
      ]
    },
    {
      "cell_type": "markdown",
      "metadata": {
        "id": "KJBOoMKu4xUM"
      },
      "source": [
        "Los que desarrollan actividad fisica moderada se agitan mas que el resto, Posiblemente eligieron un nicho que practicaba un deporte muy diferente con respecto al que hicieron el estudio."
      ]
    },
    {
      "cell_type": "code",
      "metadata": {
        "id": "8OQkvTY84wth"
      },
      "source": [
        ""
      ],
      "execution_count": null,
      "outputs": []
    }
  ]
}