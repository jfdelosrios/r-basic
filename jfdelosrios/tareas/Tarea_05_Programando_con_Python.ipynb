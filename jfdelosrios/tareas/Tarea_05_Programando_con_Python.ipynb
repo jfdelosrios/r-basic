{
 "cells": [
  {
   "cell_type": "markdown",
   "metadata": {
    "colab_type": "text",
    "id": "view-in-github"
   },
   "source": [
    "<a href=\"https://colab.research.google.com/github/jfdelosrios/r-basic/blob/master/tareas/Tarea_05_Programando_con_Python.ipynb\" target=\"_parent\"><img src=\"https://colab.research.google.com/assets/colab-badge.svg\" alt=\"Open In Colab\"/></a>"
   ]
  },
  {
   "cell_type": "markdown",
   "metadata": {
    "id": "Cwk_2EFPooiv"
   },
   "source": [
    "1. Crea una función que reciba los tres coeficientes a, b y c para resolver una ecuación de segundo grado. Muestra la solución por pantalla y ayúdate de la librería Math para acceder a la función raíz cuadrada."
   ]
  },
  {
   "cell_type": "code",
   "execution_count": null,
   "metadata": {
    "id": "r5XUl4QnoaR7"
   },
   "outputs": [],
   "source": [
    "import math\n",
    " \n",
    "a1 = input(\"a: \")\n",
    "b1 = input(\"b: \")\n",
    "c1 = input(\"c: \")\n",
    " \n",
    "def segundoGrado(a,b,c):\n",
    "    radicando = b**2-4*a*c\n",
    "    \n",
    "    sumando=b**2\n",
    "    divisor=2*a\n",
    "    \n",
    "    if(a==0):\n",
    "        print(\"a y b deben ser distintos de 0\")\n",
    "        return\n",
    "    \n",
    "    if(radicando == 0):\n",
    "        print(\"solucion: \",(sumando+math.sqrt(radicando))/divisor)\n",
    "        return\n",
    "    \n",
    "    if(radicando > 0):\n",
    "        print(\"solucion1: \",(sumando+math.sqrt(radicando))/divisor)\n",
    "        print(\"solucion2: \",(sumando-math.sqrt(radicando))/divisor)\n",
    "        return\n",
    "    \n",
    "    if(radicando < 0):\n",
    "        i=math.sqrt(-radicando)/divisor\n",
    "        r=sumando/divisor\n",
    "        print(\"solucion1: \", complex(r,-i))\n",
    "        print(\"solucion2: \", complex(r,i))\n",
    "        \n",
    "segundoGrado(int(a1), int(b1), int(c1))"
   ]
  },
  {
   "cell_type": "markdown",
   "metadata": {
    "id": "NTmYHDhWoykP"
   },
   "source": [
    "2. Crea una función que lea una frase de teclado y nos diga si es o no un palíndromo (frase que se lee igual de izquierda a derecha o al revés como por ejemplo La ruta nos aportó otro paso natural.)"
   ]
  },
  {
   "cell_type": "code",
   "execution_count": null,
   "metadata": {
    "id": "rpGLHMqBowCi"
   },
   "outputs": [],
   "source": [
    "import re\n",
    "from unicodedata import normalize\n",
    " \n",
    "frase = input(\"frase: \")\n",
    " \n",
    "# -> NFD y eliminar diacríticos\n",
    "frase = re.sub(\n",
    "        r\"([^n\\u0300-\\u036f]|n(?!\\u0303(?![\\u0300-\\u036f])))[\\u0300-\\u036f]+\", r\"\\1\", \n",
    "        normalize( \"NFD\", frase), 0, re.I\n",
    "    )\n",
    " \n",
    "# -> NFC\n",
    "frase = normalize( 'NFC', frase)\n",
    " \n",
    "frase = frase.replace(\" \", \"\").lower()\n",
    " \n",
    "if(frase == frase[::-1]):\n",
    "    print(\"es palindromo\")\n",
    "else:\n",
    "    print(\"No es palindromo\")"
   ]
  },
  {
   "cell_type": "markdown",
   "metadata": {
    "id": "t6hS-OpGo2mm"
   },
   "source": [
    "3. Crea un diccionario que tenga por claves los números del 1 al 10 y como valores sus raíces cuadradas"
   ]
  },
  {
   "cell_type": "code",
   "execution_count": 4,
   "metadata": {
    "colab": {
     "base_uri": "https://localhost:8080/"
    },
    "id": "FscLhWo_o5Kd",
    "outputId": "ab5a997b-4e67-48b7-85e9-37477fe4e1f3"
   },
   "outputs": [
    {
     "name": "stdout",
     "output_type": "stream",
     "text": [
      "{0: 0, 1: 1, 2: 4, 3: 9, 4: 16, 5: 25, 6: 36, 7: 49, 8: 64, 9: 81, 10: 100}\n"
     ]
    }
   ],
   "source": [
    "diccionario={cont:cont**2 for cont in range(0,11)}\n",
    " \n",
    "print(diccionario)"
   ]
  },
  {
   "cell_type": "markdown",
   "metadata": {
    "id": "reGQxUpvpkY-"
   },
   "source": [
    "4. Crea un diccionario que tenga como claves las letras del alfabeto castellano y como valores los símbolos del código morse (los tienes todos en la Wikipedia). A continuación crea un programa que lea una frase del teclado y te la convierta a Morse utilizando el diccionario anterior."
   ]
  },
  {
   "cell_type": "code",
   "execution_count": null,
   "metadata": {
    "id": "nvmyiwWPpAwW"
   },
   "outputs": [],
   "source": [
    "import re\n",
    "from unicodedata import normalize\n",
    " \n",
    "morse = {\n",
    "    'A': '.-',     'B': '-...',    'C': '-.-.',\n",
    "    'D': '-..',    'E': '.',       'F': '..-.',\n",
    "    'G': '--.',    'H': '....',    'I': '..',\n",
    "    'J': '.---',   'K': '-.-',     'L': '.-..',\n",
    "    'M': '--',     'N': '-.',      'O': '---',\n",
    "    'P': '.--.',   'Q': '--.-',    'R': '.-.',\n",
    "    'S': '...',    'T': '-',       'U': '..-',\n",
    "    'V': '...-',   'W': '.--',     'X': '-..-',\n",
    "    'Y': '-.--',   'Z': '--..'\n",
    "}\n",
    " \n",
    "frase = input(\"frase: \")\n",
    " \n",
    "frase = re.sub(\n",
    "        r\"([^n\\u0300-\\u036f]|n(?!\\u0303(?![\\u0300-\\u036f])))[\\u0300-\\u036f]+\", r\"\\1\", \n",
    "        normalize( \"NFD\", frase), 0, re.I\n",
    "    )\n",
    " \n",
    "# -> NFC\n",
    "frase = normalize( 'NFC', frase).upper()\n",
    "my_list=[]\n",
    "  \n",
    "for cont in range(0,len(frase)):\n",
    "    if(frase[cont]==\" \"):\n",
    "        my_list.append(\"    \")\n",
    "    else:    \n",
    "        my_list.append(morse[frase[cont]]+\" \")\n",
    " \n",
    "''.join(my_list)"
   ]
  },
  {
   "cell_type": "markdown",
   "metadata": {
    "id": "GMb2gwtMqNBe"
   },
   "source": [
    "5. Crea una función que dados dos diccionarios nos diga que claves están presentes en ambos."
   ]
  },
  {
   "cell_type": "code",
   "execution_count": 10,
   "metadata": {
    "colab": {
     "base_uri": "https://localhost:8080/"
    },
    "id": "qOWJe6SrqbN_",
    "outputId": "cb697fd8-644b-43c4-b394-12e8aac0187f"
   },
   "outputs": [
    {
     "data": {
      "text/plain": [
       "{'a', 'c'}"
      ]
     },
     "execution_count": 10,
     "metadata": {
      "tags": []
     },
     "output_type": "execute_result"
    }
   ],
   "source": [
    "listas = lambda a, b: set(a.keys()).intersection(set(b.keys()))\n",
    " \n",
    "dic1 =  {'a' : 1, 'b' : 2, 'c' : 3 , 'i' : 4}\n",
    "dic2 =  {'a' : 1, 'o' : 2, 'c' : 3 , 'd' : 4}\n",
    "    \n",
    "listas(dic1, dic2)"
   ]
  },
  {
   "cell_type": "markdown",
   "metadata": {
    "id": "BEuoRJ3ytH28"
   },
   "source": [
    "6. Crea una función que dado un número N nos diga si es primo o no (tiene que ir dividiendo por todos los números x comprendidos entre 2 y el propio número N menos uno y ver si el cociente de N/x tiene resto entero o no)."
   ]
  },
  {
   "cell_type": "code",
   "execution_count": null,
   "metadata": {
    "id": "9R2pIldwrNp6"
   },
   "outputs": [],
   "source": [
    "def detectarPrimo(num):\n",
    "    if((num-1)<=1):\n",
    "        return True\n",
    "    \n",
    "    for cont in range(2,num):\n",
    "        if(num%cont==0):\n",
    "            return False\n",
    "        \n",
    "    return True\n",
    " \n",
    " \n",
    "if(detectarPrimo(int(input(\"numero:\")))):\n",
    "    print(\"es primo\")\n",
    "else:\n",
    "    print(\"no es primo\")"
   ]
  },
  {
   "cell_type": "markdown",
   "metadata": {
    "id": "pLdtVydRtWu0"
   },
   "source": [
    "7. Investiga la documentación de la clase string y crea un método que lea una frase del teclado y escriba la primera letra de cada palabra en Mayúscula."
   ]
  },
  {
   "cell_type": "code",
   "execution_count": null,
   "metadata": {
    "id": "m7c_FZ2utZ11"
   },
   "outputs": [],
   "source": [
    "rase=input(\"frase: \")\n",
    " \n",
    "my_list=[]\n",
    "for cont in range(0,len(frase)):\n",
    "    if((cont==0)or((cont>0)and(frase[cont-1]==\" \"))):\n",
    "        my_list.append(frase[cont].upper())\n",
    "    else:\n",
    "        my_list.append(frase[cont].lower())\n",
    "        \n",
    "''.join(my_list)"
   ]
  },
  {
   "cell_type": "markdown",
   "metadata": {
    "id": "y9DcFlUntbXE"
   },
   "source": [
    "8. Crea una función que calcule el máximo común divisor de dos números introducidos por el usuario por teclado."
   ]
  },
  {
   "cell_type": "code",
   "execution_count": null,
   "metadata": {
    "id": "-qo_1V7Xtcne"
   },
   "outputs": [],
   "source": [
    "def mcd(a, b):\n",
    "    resto = 0\n",
    "    while(b > 0):\n",
    "        resto = b\n",
    "        b = a % b\n",
    "        a = resto\n",
    "    return a\n",
    " \n",
    "num1 = int(input(\"numero 1: \"))\n",
    "num2 = int(input(\"numero 2: \"))\n",
    " \n",
    "print(\"MCD de \", num1,\" y \", num2,\" :   \", mcd(num1, num2))"
   ]
  },
  {
   "cell_type": "markdown",
   "metadata": {
    "id": "Edzhg0nBtnCt"
   },
   "source": [
    "9. Investiga el Cifrado del César y crea una función que lo reproduzca en Python. Cada letra del mensaje original se desplaza tres posiciones en el alfabeto estándar. La A se convierte en la D, la B se convierte en la E, la C se convierte en la F... y cuando se acaba el alfabeto se le vuelve a dar la vuelta: la X se convierte en la A, la Y en la B y la X en la C. Los números no sufren ninguna modificación."
   ]
  },
  {
   "cell_type": "code",
   "execution_count": 11,
   "metadata": {
    "colab": {
     "base_uri": "https://localhost:8080/"
    },
    "id": "Yj5vmTYGtqAH",
    "outputId": "0be9351b-81af-4b36-a9b6-c980cbdfda6b"
   },
   "outputs": [
    {
     "name": "stdout",
     "output_type": "stream",
     "text": [
      "frase: hola\n",
      "acarreo: 3\n",
      "krod\n"
     ]
    }
   ],
   "source": [
    "def nuevaLetra(letra, acarreo):\n",
    "    if((ord(letra)>=ord('A'))and(ord(letra)<=ord('Z'))):\n",
    "        valor = ord(letra)+acarreo\n",
    "        if(ord(letra)>ord('Z')-acarreo):\n",
    "            valor= valor-ord('Z')+ord('A')-1\n",
    "        return chr(valor)\n",
    "    \n",
    "    if((ord(letra)>=ord('a'))and(ord(letra)<=ord('z'))):\n",
    "        valor = ord(letra)+acarreo\n",
    "        if(ord(letra)>ord('z')-acarreo):\n",
    "            valor= valor-ord('z')+ord('a')-1\n",
    "        return chr(valor)\n",
    "    \n",
    "    return letra\n",
    " \n",
    "ls=input(\"frase: \")\n",
    "acarreo1=int(input(\"acarreo: \"))\n",
    " \n",
    "salida=\"\"\n",
    "for cont in range(0,len(ls)):\n",
    "    salida=salida+nuevaLetra(ls[cont],acarreo1)   \n",
    " \n",
    "print(salida)"
   ]
  },
  {
   "cell_type": "markdown",
   "metadata": {
    "id": "NF7vS8Hot9-A"
   },
   "source": [
    "10. Dado una lista de nombres de persona, escribe un algoritmo que los ordene de tres formas diferentes:\n",
    "\n",
    "      A. De forma alfabética\n",
    "\n",
    "      B. De forma alfabética invertida\n",
    "\n",
    "      C. De nombre más corto al más largo."
   ]
  },
  {
   "cell_type": "code",
   "execution_count": null,
   "metadata": {
    "id": "0IdgQkq0tsGJ"
   },
   "outputs": [],
   "source": [
    "def ordenar(lista1, tipoOrden):\n",
    "    if((tipoOrden!=\"A\")and(tipoOrden!=\"B\")and(tipoOrden!=\"C\")):\n",
    "        print(\"letra incorrecta\")\n",
    "        return\n",
    "    \n",
    "    if(tipoOrden==\"A\"):       \n",
    "        print(sorted(lista1))\n",
    "        return\n",
    "    \n",
    "    if(tipoOrden==\"B\"):\n",
    "        print(sorted(lista1,reverse=True))\n",
    "        return\n",
    "    \n",
    "    if(tipoOrden==\"C\"):\n",
    "        lista2=[]\n",
    "        print(sorted(lista1,key=len))\n",
    "        return\n",
    " \n",
    "lista=[\"jorge\", \"anacleto\",\"luis\", \"andrea\"]\n",
    " \n",
    "ordenar(lista, input(\"tipo orden (A, B o C): \"))"
   ]
  }
 ],
 "metadata": {
  "colab": {
   "authorship_tag": "ABX9TyPXOhaCaQsaQtq0rqFChhFI",
   "include_colab_link": true,
   "name": "Tarea 5 Programando con Python.ipynb",
   "provenance": []
  },
  "kernelspec": {
   "display_name": "Python 3",
   "language": "python",
   "name": "python3"
  },
  "language_info": {
   "codemirror_mode": {
    "name": "ipython",
    "version": 3
   },
   "file_extension": ".py",
   "mimetype": "text/x-python",
   "name": "python",
   "nbconvert_exporter": "python",
   "pygments_lexer": "ipython3",
   "version": "3.8.5"
  }
 },
 "nbformat": 4,
 "nbformat_minor": 1
}
