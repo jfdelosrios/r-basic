{
 "cells": [
  {
   "cell_type": "markdown",
   "metadata": {},
   "source": [
    "# 100 numpy exercises"
   ]
  },
  {
   "cell_type": "markdown",
   "metadata": {},
   "source": [
    "This is a collection of exercises that have been collected in the numpy mailing list, on stack overflow and in the numpy documentation. I've also created some to reach the 100 limit. The goal of this collection is to offer a quick reference for both old and new users but also to provide a set of exercises for those who teach.\n",
    "\n",
    "If you find an error or think you've a better way to solve some of them, feel free to open an issue at https://github.com/rougier/numpy-100"
   ]
  },
  {
   "cell_type": "markdown",
   "metadata": {},
   "source": [
    "**1. Import the numpy package under the name np (★☆☆)**"
   ]
  },
  {
   "cell_type": "code",
   "execution_count": 1,
   "metadata": {},
   "outputs": [],
   "source": [
    "import numpy as np"
   ]
  },
  {
   "cell_type": "markdown",
   "metadata": {},
   "source": [
    "**2. Print the numpy version and the configuration (★☆☆)**"
   ]
  },
  {
   "cell_type": "code",
   "execution_count": 2,
   "metadata": {},
   "outputs": [
    {
     "data": {
      "text/plain": [
       "'1.16.2'"
      ]
     },
     "execution_count": 2,
     "metadata": {},
     "output_type": "execute_result"
    }
   ],
   "source": [
    "np.version.version"
   ]
  },
  {
   "cell_type": "markdown",
   "metadata": {},
   "source": [
    "**3. Create a null vector of size 10 (★☆☆)**"
   ]
  },
  {
   "cell_type": "code",
   "execution_count": 17,
   "metadata": {},
   "outputs": [
    {
     "data": {
      "text/plain": [
       "array([6.23042070e-307, 3.56043053e-307, 1.60219306e-306, 7.56571288e-307,\n",
       "       1.89146896e-307, 1.37961302e-306, 1.05699242e-307, 8.01097889e-307,\n",
       "       8.34452352e-308, 8.34402698e-308])"
      ]
     },
     "execution_count": 17,
     "metadata": {},
     "output_type": "execute_result"
    }
   ],
   "source": [
    "np.empty(10)"
   ]
  },
  {
   "cell_type": "markdown",
   "metadata": {},
   "source": [
    "**4. How to find the memory size of any array (★☆☆)**"
   ]
  },
  {
   "cell_type": "markdown",
   "metadata": {},
   "source": [
    "print(\"%d bytes\" % (n.size * n.itemsize))"
   ]
  },
  {
   "cell_type": "markdown",
   "metadata": {},
   "source": [
    "**5. How to get the documentation of the numpy add function from the command line? (★☆☆)**"
   ]
  },
  {
   "cell_type": "code",
   "execution_count": 26,
   "metadata": {},
   "outputs": [],
   "source": [
    "#help np.v  ERROR"
   ]
  },
  {
   "cell_type": "markdown",
   "metadata": {},
   "source": [
    "**6. Create a null vector of size 10 but the fifth value which is 1 (★☆☆)**"
   ]
  },
  {
   "cell_type": "code",
   "execution_count": 38,
   "metadata": {},
   "outputs": [
    {
     "name": "stdout",
     "output_type": "stream",
     "text": [
      "[6.23042070e-307 3.56043053e-307 1.60219306e-306 7.56571288e-307\n",
      " 1.00000000e+000 1.37961302e-306 1.05699242e-307 8.01097889e-307\n",
      " 8.34452352e-308 8.34402698e-308]\n"
     ]
    }
   ],
   "source": [
    "x=np.empty(10)\n",
    "x[4]=1\n",
    "print(x)"
   ]
  },
  {
   "cell_type": "markdown",
   "metadata": {},
   "source": [
    "**7. Create a vector with values ranging from 10 to 49 (★☆☆)**"
   ]
  },
  {
   "cell_type": "code",
   "execution_count": 40,
   "metadata": {},
   "outputs": [
    {
     "data": {
      "text/plain": [
       "array([10, 11, 12, 13, 14, 15, 16, 17, 18, 19, 20, 21, 22, 23, 24, 25, 26,\n",
       "       27, 28, 29, 30, 31, 32, 33, 34, 35, 36, 37, 38, 39, 40, 41, 42, 43,\n",
       "       44, 45, 46, 47, 48, 49])"
      ]
     },
     "execution_count": 40,
     "metadata": {},
     "output_type": "execute_result"
    }
   ],
   "source": [
    "np.arange(10,50)"
   ]
  },
  {
   "cell_type": "markdown",
   "metadata": {},
   "source": [
    "**8. Reverse a vector (first element becomes last) (★☆☆)**"
   ]
  },
  {
   "cell_type": "code",
   "execution_count": 41,
   "metadata": {},
   "outputs": [
    {
     "data": {
      "text/plain": [
       "array([49, 48, 47, 46, 45, 44, 43, 42, 41, 40, 39, 38, 37, 36, 35, 34, 33,\n",
       "       32, 31, 30, 29, 28, 27, 26, 25, 24, 23, 22, 21, 20, 19, 18, 17, 16,\n",
       "       15, 14, 13, 12, 11, 10])"
      ]
     },
     "execution_count": 41,
     "metadata": {},
     "output_type": "execute_result"
    }
   ],
   "source": [
    "np.flip(np.arange(10,50))"
   ]
  },
  {
   "cell_type": "markdown",
   "metadata": {},
   "source": [
    "**9. Create a 3x3 matrix with values ranging from 0 to 8 (★☆☆)**"
   ]
  },
  {
   "cell_type": "code",
   "execution_count": 48,
   "metadata": {},
   "outputs": [
    {
     "data": {
      "text/plain": [
       "array([[0, 1, 2],\n",
       "       [3, 4, 5],\n",
       "       [6, 7, 8]])"
      ]
     },
     "execution_count": 48,
     "metadata": {},
     "output_type": "execute_result"
    }
   ],
   "source": [
    "np.arange(9).reshape((3,3))"
   ]
  },
  {
   "cell_type": "markdown",
   "metadata": {},
   "source": [
    "**10. Find indices of non-zero elements from [1,2,0,0,4,0] (★☆☆)**"
   ]
  },
  {
   "cell_type": "code",
   "execution_count": null,
   "metadata": {},
   "outputs": [],
   "source": []
  },
  {
   "cell_type": "markdown",
   "metadata": {},
   "source": [
    "**11. Create a 3x3 identity matrix (★☆☆)**"
   ]
  },
  {
   "cell_type": "code",
   "execution_count": 52,
   "metadata": {},
   "outputs": [
    {
     "data": {
      "text/plain": [
       "array([[1., 0., 0.],\n",
       "       [0., 1., 0.],\n",
       "       [0., 0., 1.]])"
      ]
     },
     "execution_count": 52,
     "metadata": {},
     "output_type": "execute_result"
    }
   ],
   "source": [
    "np.eye(3)"
   ]
  },
  {
   "cell_type": "markdown",
   "metadata": {},
   "source": [
    "**12. Create a 3x3x3 array with random values (★☆☆)**"
   ]
  },
  {
   "cell_type": "code",
   "execution_count": 54,
   "metadata": {},
   "outputs": [
    {
     "data": {
      "text/plain": [
       "array([[[0.14001072, 0.50678711, 0.07484998],\n",
       "        [0.22650817, 0.62162182, 0.49820481],\n",
       "        [0.54825664, 0.26457266, 0.91540342]],\n",
       "\n",
       "       [[0.17603538, 0.81497731, 0.56738445],\n",
       "        [0.05424392, 0.23234286, 0.00421245],\n",
       "        [0.19209412, 0.78145687, 0.27961003]],\n",
       "\n",
       "       [[0.14924861, 0.36043492, 0.93392426],\n",
       "        [0.47545026, 0.82911392, 0.5135808 ],\n",
       "        [0.2016237 , 0.9496961 , 0.05230535]]])"
      ]
     },
     "execution_count": 54,
     "metadata": {},
     "output_type": "execute_result"
    }
   ],
   "source": [
    "np.random.rand(3,3,3)"
   ]
  },
  {
   "cell_type": "markdown",
   "metadata": {},
   "source": [
    "**13. Create a 10x10 array with random values and find the minimum and maximum values (★☆☆)**"
   ]
  },
  {
   "cell_type": "code",
   "execution_count": 65,
   "metadata": {},
   "outputs": [
    {
     "name": "stdout",
     "output_type": "stream",
     "text": [
      "[[0.95983958 0.3954728  0.48230512 0.34191931 0.9485459  0.07396938\n",
      "  0.46288504 0.92111428 0.65898628 0.81439312]\n",
      " [0.00394902 0.96225698 0.06751277 0.1859255  0.11859221 0.47030038\n",
      "  0.91481525 0.06453699 0.58270544 0.58079551]\n",
      " [0.77462773 0.52237499 0.76458423 0.22875327 0.66544216 0.40631114\n",
      "  0.80678233 0.84117678 0.41824431 0.95947996]\n",
      " [0.60443474 0.77977915 0.86182462 0.58676731 0.26802194 0.75857157\n",
      "  0.15462391 0.54351672 0.8544092  0.47551051]\n",
      " [0.13094797 0.54159966 0.44133037 0.15505192 0.38169362 0.24681714\n",
      "  0.62891817 0.93715439 0.46587074 0.35931647]\n",
      " [0.86704957 0.77423616 0.84253175 0.22198272 0.30535059 0.18204983\n",
      "  0.98222716 0.92129803 0.57633502 0.4902339 ]\n",
      " [0.88418685 0.63517436 0.63370806 0.54243644 0.73633092 0.6624382\n",
      "  0.99740369 0.66675978 0.88178309 0.68898705]\n",
      " [0.76387714 0.15542269 0.38084754 0.76828489 0.32056987 0.12642865\n",
      "  0.84930749 0.87920165 0.88518744 0.1369974 ]\n",
      " [0.47384113 0.74092125 0.63825024 0.3418125  0.50476305 0.4426606\n",
      "  0.39493389 0.41439173 0.34633405 0.37010934]\n",
      " [0.64620519 0.45451144 0.17327472 0.1481448  0.11882438 0.17389448\n",
      "  0.1730813  0.27509787 0.67643027 0.29039584]]\n",
      "\n",
      "Minimum element from Numpy Array:  0.003949017801388788\n",
      "Maximum element from Numpy Array:  0.9974036909760531\n"
     ]
    }
   ],
   "source": [
    "arr=np.random.rand(10,10)\n",
    "print(arr)\n",
    "print(\"\")\n",
    "print('Minimum element from Numpy Array: ',np.amin(arr))\n",
    "print('Maximum element from Numpy Array: ',np.amax(arr))"
   ]
  },
  {
   "cell_type": "markdown",
   "metadata": {},
   "source": [
    "**14. Create a random vector of size 30 and find the mean value (★☆☆)**"
   ]
  },
  {
   "cell_type": "code",
   "execution_count": 66,
   "metadata": {},
   "outputs": [
    {
     "name": "stdout",
     "output_type": "stream",
     "text": [
      "[0.93666687 0.34042409 0.8710785  0.1828807  0.14726074 0.84639916\n",
      " 0.28244599 0.99314787 0.89017368 0.22733355 0.15182746 0.95577621\n",
      " 0.77613963 0.51405064 0.64921761 0.16797597 0.44954808 0.59182088\n",
      " 0.26614796 0.46310189 0.64243871 0.41830511 0.64609822 0.45238262\n",
      " 0.36228507 0.57614122 0.78728643 0.61038886 0.50914372 0.75241575]\n",
      "\n",
      "Mean:  0.5486767722449506\n"
     ]
    }
   ],
   "source": [
    "arr=np.random.rand(30)\n",
    "print(arr)\n",
    "print(\"\")\n",
    "print('Mean: ',np.mean(arr))"
   ]
  },
  {
   "cell_type": "markdown",
   "metadata": {},
   "source": [
    "**15. Create a 2d array with 1 on the border and 0 inside (★☆☆)**"
   ]
  },
  {
   "cell_type": "code",
   "execution_count": 85,
   "metadata": {},
   "outputs": [
    {
     "name": "stdout",
     "output_type": "stream",
     "text": [
      "[[1. 0. 0. 0. 1.]\n",
      " [0. 0. 0. 0. 0.]\n",
      " [0. 0. 0. 0. 0.]\n",
      " [0. 0. 0. 0. 0.]\n",
      " [0. 0. 0. 0. 0.]\n",
      " [1. 0. 0. 0. 1.]]\n"
     ]
    }
   ],
   "source": [
    "arr=np.zeros((6, 5))\n",
    "arr[0,0]=1\n",
    "arr[arr.shape[0]-1,0]=1\n",
    "arr[0,arr.shape[1]-1]=1\n",
    "arr[arr.shape[0]-1,arr.shape[1]-1]=1\n",
    "print(arr)"
   ]
  },
  {
   "cell_type": "markdown",
   "metadata": {},
   "source": [
    "**16. How to add a border (filled with 0's) around an existing array? (★☆☆)**"
   ]
  },
  {
   "cell_type": "code",
   "execution_count": 89,
   "metadata": {},
   "outputs": [
    {
     "data": {
      "text/plain": [
       "array([[0., 0., 0., 0., 0.],\n",
       "       [0., 1., 1., 1., 0.],\n",
       "       [0., 1., 1., 1., 0.],\n",
       "       [0., 1., 1., 1., 0.],\n",
       "       [0., 0., 0., 0., 0.]])"
      ]
     },
     "execution_count": 89,
     "metadata": {},
     "output_type": "execute_result"
    }
   ],
   "source": [
    "x=np.ones((3,3))\n",
    "np.pad(x, pad_width=1, mode='constant', constant_values=0)"
   ]
  },
  {
   "cell_type": "markdown",
   "metadata": {},
   "source": [
    "**17. What is the result of the following expression? (★☆☆)**\n",
    "\n",
    "0 * np.nan\n",
    "\n",
    "np.nan == np.nan\n",
    "\n",
    "np.inf > np.nan\n",
    "\n",
    "np.nan - np.nan\n",
    "\n",
    "np.nan in set([np.nan])\n",
    "\n",
    "0.3 == 3 * 0.1"
   ]
  },
  {
   "cell_type": "code",
   "execution_count": 91,
   "metadata": {},
   "outputs": [
    {
     "data": {
      "text/plain": [
       "nan"
      ]
     },
     "execution_count": 91,
     "metadata": {},
     "output_type": "execute_result"
    }
   ],
   "source": [
    "0 * np.nan"
   ]
  },
  {
   "cell_type": "code",
   "execution_count": 92,
   "metadata": {},
   "outputs": [
    {
     "data": {
      "text/plain": [
       "False"
      ]
     },
     "execution_count": 92,
     "metadata": {},
     "output_type": "execute_result"
    }
   ],
   "source": [
    "np.nan == np.nan"
   ]
  },
  {
   "cell_type": "code",
   "execution_count": 93,
   "metadata": {},
   "outputs": [
    {
     "data": {
      "text/plain": [
       "False"
      ]
     },
     "execution_count": 93,
     "metadata": {},
     "output_type": "execute_result"
    }
   ],
   "source": [
    "np.inf > np.nan"
   ]
  },
  {
   "cell_type": "code",
   "execution_count": 94,
   "metadata": {},
   "outputs": [
    {
     "data": {
      "text/plain": [
       "nan"
      ]
     },
     "execution_count": 94,
     "metadata": {},
     "output_type": "execute_result"
    }
   ],
   "source": [
    "np.nan - np.nan"
   ]
  },
  {
   "cell_type": "code",
   "execution_count": 95,
   "metadata": {},
   "outputs": [
    {
     "data": {
      "text/plain": [
       "True"
      ]
     },
     "execution_count": 95,
     "metadata": {},
     "output_type": "execute_result"
    }
   ],
   "source": [
    "np.nan in set([np.nan])"
   ]
  },
  {
   "cell_type": "code",
   "execution_count": 96,
   "metadata": {},
   "outputs": [
    {
     "data": {
      "text/plain": [
       "False"
      ]
     },
     "execution_count": 96,
     "metadata": {},
     "output_type": "execute_result"
    }
   ],
   "source": [
    "0.3 == 3 * 0.1"
   ]
  },
  {
   "cell_type": "markdown",
   "metadata": {},
   "source": [
    "**18. Create a 5x5 matrix with values 1,2,3,4 just below the diagonal (★☆☆)**"
   ]
  },
  {
   "cell_type": "code",
   "execution_count": 122,
   "metadata": {},
   "outputs": [
    {
     "name": "stdout",
     "output_type": "stream",
     "text": [
      "[[0. 0. 0. 0. 0.]\n",
      " [1. 0. 0. 0. 0.]\n",
      " [0. 2. 0. 0. 0.]\n",
      " [0. 0. 3. 0. 0.]\n",
      " [0. 0. 0. 4. 0.]]\n"
     ]
    }
   ],
   "source": [
    "arr=np.zeros((5, 5))\n",
    "\n",
    "for vu in range(1,5):\n",
    "    arr[vu, vu-1]=vu\n",
    "\n",
    "print(arr)"
   ]
  },
  {
   "cell_type": "markdown",
   "metadata": {},
   "source": [
    "**19. Create a 8x8 matrix and fill it with a checkerboard pattern (★☆☆)**"
   ]
  },
  {
   "cell_type": "code",
   "execution_count": 165,
   "metadata": {},
   "outputs": [
    {
     "data": {
      "text/plain": [
       "array([[0., 1., 0., 1., 0., 1., 0., 1.],\n",
       "       [1., 0., 1., 0., 1., 0., 1., 0.],\n",
       "       [0., 1., 0., 1., 0., 1., 0., 1.],\n",
       "       [1., 0., 1., 0., 1., 0., 1., 0.],\n",
       "       [0., 1., 0., 1., 0., 1., 0., 1.],\n",
       "       [1., 0., 1., 0., 1., 0., 1., 0.],\n",
       "       [0., 1., 0., 1., 0., 1., 0., 1.],\n",
       "       [1., 0., 1., 0., 1., 0., 1., 0.]])"
      ]
     },
     "execution_count": 165,
     "metadata": {},
     "output_type": "execute_result"
    }
   ],
   "source": [
    "tablero=np.zeros((8, 8))\n",
    "\n",
    "for vu1 in range(0,8,2):\n",
    "    for vu in range(1,8,2):\n",
    "        tablero[vu1, vu]=1\n",
    "    \n",
    "for vu1 in range(1,8,2):\n",
    "    for vu in range(0,8,2):\n",
    "        tablero[vu1, vu]=1\n",
    "tablero"
   ]
  },
  {
   "cell_type": "markdown",
   "metadata": {},
   "source": [
    "**20. Consider a (6,7,8) shape array, what is the index (x,y,z) of the 100th element?**"
   ]
  },
  {
   "cell_type": "code",
   "execution_count": null,
   "metadata": {},
   "outputs": [],
   "source": []
  },
  {
   "cell_type": "markdown",
   "metadata": {},
   "source": [
    "**21. Create a checkerboard 8x8 matrix using the tile function (★☆☆)**"
   ]
  },
  {
   "cell_type": "code",
   "execution_count": 178,
   "metadata": {},
   "outputs": [
    {
     "data": {
      "text/plain": [
       "array([[1, 0, 1, 0, 1, 0, 1, 0],\n",
       "       [0, 1, 0, 1, 0, 1, 0, 1],\n",
       "       [1, 0, 1, 0, 1, 0, 1, 0],\n",
       "       [0, 1, 0, 1, 0, 1, 0, 1],\n",
       "       [1, 0, 1, 0, 1, 0, 1, 0],\n",
       "       [0, 1, 0, 1, 0, 1, 0, 1],\n",
       "       [1, 0, 1, 0, 1, 0, 1, 0],\n",
       "       [0, 1, 0, 1, 0, 1, 0, 1]])"
      ]
     },
     "execution_count": 178,
     "metadata": {},
     "output_type": "execute_result"
    }
   ],
   "source": [
    "b = np.array([[1, 0], [0, 1]])\n",
    "np.tile(b, (4, 4))"
   ]
  },
  {
   "cell_type": "markdown",
   "metadata": {},
   "source": [
    "**22. Normalize a 5x5 random matrix (★☆☆)**"
   ]
  },
  {
   "cell_type": "code",
   "execution_count": 181,
   "metadata": {},
   "outputs": [
    {
     "name": "stdout",
     "output_type": "stream",
     "text": [
      "[[0.4152499  0.85463719 0.89775757 0.68646959 0.32436274]\n",
      " [0.15793937 0.03294922 0.22615045 0.42101682 0.6663549 ]\n",
      " [0.94651927 0.47835238 0.33086692 0.30435455 0.80851233]\n",
      " [0.06887922 0.38249157 0.33571128 0.90286297 0.60931831]\n",
      " [0.81243608 0.13863307 0.57632841 0.36219348 0.79906886]]\n",
      "\n",
      "[[0.39466144 1.         1.         0.63844555 0.        ]\n",
      " [0.10147685 0.         0.         0.19492168 0.70637704]\n",
      " [1.         0.54205876 0.15591924 0.         1.        ]\n",
      " [0.         0.42539548 0.16313233 1.         0.58856927]\n",
      " [0.84722303 0.12861799 0.52140299 0.09663846 0.98049472]]\n"
     ]
    }
   ],
   "source": [
    "arr=np.random.rand(5,5)\n",
    "print(arr)\n",
    "print(\"\")\n",
    "def scale(X, x_min, x_max):\n",
    "    nom = (X-X.min(axis=0))*(x_max-x_min)\n",
    "    denom = X.max(axis=0) - X.min(axis=0)\n",
    "    denom[denom==0] = 1\n",
    "    return x_min + nom/denom \n",
    "\n",
    "arr = scale(arr, 0, 1)\n",
    "print(arr)"
   ]
  },
  {
   "cell_type": "markdown",
   "metadata": {},
   "source": [
    "**23. Create a custom dtype that describes a color as four unsigned bytes (RGBA) (★☆☆)**"
   ]
  },
  {
   "cell_type": "code",
   "execution_count": null,
   "metadata": {},
   "outputs": [],
   "source": []
  },
  {
   "cell_type": "markdown",
   "metadata": {},
   "source": [
    "**24. Multiply a 5x3 matrix by a 3x2 matrix (real matrix product) (★☆☆)**"
   ]
  },
  {
   "cell_type": "code",
   "execution_count": 184,
   "metadata": {},
   "outputs": [
    {
     "name": "stdout",
     "output_type": "stream",
     "text": [
      "A:  [[0.00913773 0.7874003  0.55686816]\n",
      " [0.02608617 0.89131627 0.20397625]\n",
      " [0.76173023 0.23983797 0.35451514]\n",
      " [0.72740448 0.96328846 0.62168443]\n",
      " [0.92772858 0.98535114 0.73753663]]\n",
      "\n",
      "B:  [[0.2317685  0.05776526]\n",
      " [0.88860166 0.69322079]\n",
      " [0.49659325 0.5137088 ]]\n",
      "\n",
      "A*B:  [[0.97834003 0.83243818]\n",
      " [0.8993643  0.72417023]\n",
      " [0.56571532 0.39237975]\n",
      " [1.33329347 1.02915506]\n",
      " [1.45685863 1.11553543]]\n"
     ]
    }
   ],
   "source": [
    "A=np.random.rand(5,3)\n",
    "print(\"A: \", A)\n",
    "print(\"\")\n",
    "B=np.random.rand(3,2)\n",
    "print(\"B: \",B)\n",
    "print(\"\")\n",
    "print(\"A*B: \", np.matmul(A, B))"
   ]
  },
  {
   "cell_type": "markdown",
   "metadata": {},
   "source": [
    "**25. Given a 1D array, negate all elements which are between 3 and 8, in place. (★☆☆)**"
   ]
  },
  {
   "cell_type": "code",
   "execution_count": 189,
   "metadata": {},
   "outputs": [
    {
     "name": "stdout",
     "output_type": "stream",
     "text": [
      "[0.21430404 0.64711423 0.97505597 0.22720848 0.29133635 0.61341114\n",
      " 0.95798141 0.53881973 0.90021777 0.43682071]\n",
      "\n",
      "[ 0.21430404  0.64711423  0.97505597 -0.22720848 -0.29133635 -0.61341114\n",
      " -0.95798141 -0.53881973 -0.90021777  0.43682071]\n"
     ]
    }
   ],
   "source": [
    "x=np.random.rand(10)\n",
    "print(x)\n",
    "\n",
    "print(\"\")\n",
    "for vu in range(3,9):\n",
    "    x[vu]=-x[vu]\n",
    "    \n",
    "print(x)"
   ]
  },
  {
   "cell_type": "markdown",
   "metadata": {},
   "source": [
    "**26. What is the output of the following script? (★☆☆)**\n",
    "\n",
    "> Author: Jake VanderPlas\n",
    "\n",
    "print(sum(range(5),-1))\n",
    "\n",
    "\n",
    "from numpy import *\n",
    "\n",
    "\n",
    "print(sum(range(5),-1))"
   ]
  },
  {
   "cell_type": "code",
   "execution_count": 190,
   "metadata": {},
   "outputs": [
    {
     "name": "stdout",
     "output_type": "stream",
     "text": [
      "9\n"
     ]
    }
   ],
   "source": [
    "print(sum(range(5),-1))"
   ]
  },
  {
   "cell_type": "code",
   "execution_count": 191,
   "metadata": {},
   "outputs": [],
   "source": [
    "from numpy import *"
   ]
  },
  {
   "cell_type": "code",
   "execution_count": 192,
   "metadata": {},
   "outputs": [
    {
     "name": "stdout",
     "output_type": "stream",
     "text": [
      "10\n"
     ]
    }
   ],
   "source": [
    "print(sum(range(5),-1))"
   ]
  },
  {
   "cell_type": "markdown",
   "metadata": {},
   "source": [
    "**27. Consider an integer vector Z, which of these expressions are legal? (★☆☆)**\n",
    "\n",
    "1. Z**Z\n",
    "\n",
    "\n",
    "2. 2 << Z >> 2\n",
    "\n",
    "\n",
    "3. Z <- Z\n",
    "\n",
    "\n",
    "4. 1j*Z\n",
    "\n",
    "\n",
    "5. Z/1/1\n",
    "\n",
    "\n",
    "6. Z<Z>Z"
   ]
  },
  {
   "cell_type": "markdown",
   "metadata": {},
   "source": [
    "ZZ is not legal"
   ]
  },
  {
   "cell_type": "code",
   "execution_count": 204,
   "metadata": {},
   "outputs": [],
   "source": [
    "#Z=np.array(range(10), dtype=np.int16)"
   ]
  },
  {
   "cell_type": "markdown",
   "metadata": {},
   "source": [
    "**28. What are the result of the following expressions?**\n",
    "\n",
    "np.array(0) / np.array(0)\n",
    "\n",
    "\n",
    "np.array(0) // np.array(0)\n",
    "\n",
    "\n",
    "np.array([np.nan]).astype(int).astype(float)"
   ]
  },
  {
   "cell_type": "code",
   "execution_count": 205,
   "metadata": {},
   "outputs": [
    {
     "name": "stderr",
     "output_type": "stream",
     "text": [
      "C:\\ProgramData\\Anaconda3\\lib\\site-packages\\ipykernel_launcher.py:1: RuntimeWarning: invalid value encountered in true_divide\n",
      "  \"\"\"Entry point for launching an IPython kernel.\n"
     ]
    },
    {
     "data": {
      "text/plain": [
       "nan"
      ]
     },
     "execution_count": 205,
     "metadata": {},
     "output_type": "execute_result"
    }
   ],
   "source": [
    "np.array(0) / np.array(0)"
   ]
  },
  {
   "cell_type": "code",
   "execution_count": 206,
   "metadata": {},
   "outputs": [
    {
     "name": "stderr",
     "output_type": "stream",
     "text": [
      "C:\\ProgramData\\Anaconda3\\lib\\site-packages\\ipykernel_launcher.py:1: RuntimeWarning: divide by zero encountered in floor_divide\n",
      "  \"\"\"Entry point for launching an IPython kernel.\n"
     ]
    },
    {
     "data": {
      "text/plain": [
       "0"
      ]
     },
     "execution_count": 206,
     "metadata": {},
     "output_type": "execute_result"
    }
   ],
   "source": [
    "np.array(0) // np.array(0)"
   ]
  },
  {
   "cell_type": "code",
   "execution_count": 207,
   "metadata": {},
   "outputs": [
    {
     "data": {
      "text/plain": [
       "array([-2.14748365e+09])"
      ]
     },
     "execution_count": 207,
     "metadata": {},
     "output_type": "execute_result"
    }
   ],
   "source": [
    "np.array([np.nan]).astype(int).astype(float)"
   ]
  },
  {
   "cell_type": "markdown",
   "metadata": {},
   "source": [
    "**29. How to round away from zero a float array ? (★☆☆)**"
   ]
  },
  {
   "cell_type": "code",
   "execution_count": 216,
   "metadata": {},
   "outputs": [
    {
     "name": "stdout",
     "output_type": "stream",
     "text": [
      "[2.74856628 2.58574279 6.63282905 7.39030534 8.25444055 0.98725178\n",
      " 6.75610803 1.95278778 0.14888342 2.33491326 8.93257885 0.81495563\n",
      " 8.15608192 6.01654168 6.08876754 1.69312003 1.92007136 8.49509672\n",
      " 1.32191004 2.71013288 9.53692637 3.64059676 4.0717608  8.76474411\n",
      " 9.40407337 8.16121184 9.57383194 9.59633859 1.13884727 8.21723189]\n"
     ]
    },
    {
     "data": {
      "text/plain": [
       "array([2.75, 2.59, 6.63, 7.39, 8.25, 0.99, 6.76, 1.95, 0.15, 2.33, 8.93,\n",
       "       0.81, 8.16, 6.02, 6.09, 1.69, 1.92, 8.5 , 1.32, 2.71, 9.54, 3.64,\n",
       "       4.07, 8.76, 9.4 , 8.16, 9.57, 9.6 , 1.14, 8.22])"
      ]
     },
     "execution_count": 216,
     "metadata": {},
     "output_type": "execute_result"
    }
   ],
   "source": [
    "arr=np.random.rand(30)*10\n",
    "print(arr)\n",
    "np.round(arr, decimals=2)"
   ]
  },
  {
   "cell_type": "markdown",
   "metadata": {},
   "source": [
    "**30. How to find common values between two arrays? (★☆☆)**"
   ]
  },
  {
   "cell_type": "code",
   "execution_count": 218,
   "metadata": {},
   "outputs": [
    {
     "name": "stdout",
     "output_type": "stream",
     "text": [
      "Array1:  [ 0 10 20 40 60]\n",
      "Array2:  [10, 30, 40]\n",
      "\n",
      "Common values between two arrays:\n",
      "[10 40]\n"
     ]
    }
   ],
   "source": [
    "array1 = np.array([0, 10, 20, 40, 60])\n",
    "print(\"Array1: \",array1)\n",
    "array2 = [10, 30, 40]\n",
    "print(\"Array2: \",array2)\n",
    "print(\"\")\n",
    "print(\"Common values between two arrays:\")\n",
    "print(np.intersect1d(array1, array2))"
   ]
  },
  {
   "cell_type": "markdown",
   "metadata": {},
   "source": [
    "**31. How to ignore all numpy warnings (not recommended)? (★☆☆)**"
   ]
  },
  {
   "cell_type": "code",
   "execution_count": null,
   "metadata": {},
   "outputs": [],
   "source": [
    "#np.seterr(divide='ignore', invalid='ignore')"
   ]
  },
  {
   "cell_type": "markdown",
   "metadata": {},
   "source": [
    "**32. Is the following expressions true? (★☆☆)**\n",
    "\n",
    "np.sqrt(-1) == np.emath.sqrt(-1)"
   ]
  },
  {
   "cell_type": "code",
   "execution_count": 219,
   "metadata": {},
   "outputs": [
    {
     "name": "stderr",
     "output_type": "stream",
     "text": [
      "C:\\ProgramData\\Anaconda3\\lib\\site-packages\\ipykernel_launcher.py:1: RuntimeWarning: invalid value encountered in sqrt\n",
      "  \"\"\"Entry point for launching an IPython kernel.\n"
     ]
    },
    {
     "data": {
      "text/plain": [
       "False"
      ]
     },
     "execution_count": 219,
     "metadata": {},
     "output_type": "execute_result"
    }
   ],
   "source": [
    "np.sqrt(-1) == np.emath.sqrt(-1)"
   ]
  },
  {
   "cell_type": "markdown",
   "metadata": {},
   "source": [
    "**33. How to get the dates of yesterday, today and tomorrow? (★☆☆)**"
   ]
  },
  {
   "cell_type": "code",
   "execution_count": 221,
   "metadata": {},
   "outputs": [
    {
     "name": "stdout",
     "output_type": "stream",
     "text": [
      "Yestraday:  2019-05-22\n",
      "Today:  2019-05-23\n",
      "Tomorrow:  2019-05-24\n"
     ]
    }
   ],
   "source": [
    "today     = np.datetime64('today', 'D')\n",
    "yesterday = today - np.timedelta64(1, 'D')\n",
    "tomorrow  = today + np.timedelta64(1, 'D')\n",
    "print(\"Yestraday: \",yesterday)\n",
    "print(\"Today: \",today)\n",
    "print(\"Tomorrow: \",tomorrow)"
   ]
  },
  {
   "cell_type": "markdown",
   "metadata": {},
   "source": [
    "**34. How to get all the dates corresponding to the month of July 2016? (★★☆)**"
   ]
  },
  {
   "cell_type": "code",
   "execution_count": 249,
   "metadata": {},
   "outputs": [
    {
     "name": "stdout",
     "output_type": "stream",
     "text": [
      "['2016-07-01' '2016-07-02' '2016-07-03' '2016-07-04' '2016-07-05'\n",
      " '2016-07-06' '2016-07-07' '2016-07-08' '2016-07-09' '2016-07-10'\n",
      " '2016-07-11' '2016-07-12' '2016-07-13' '2016-07-14' '2016-07-15'\n",
      " '2016-07-16' '2016-07-17' '2016-07-18' '2016-07-19' '2016-07-20'\n",
      " '2016-07-21' '2016-07-22' '2016-07-23' '2016-07-24' '2016-07-25'\n",
      " '2016-07-26' '2016-07-27' '2016-07-28' '2016-07-29' '2016-07-30'\n",
      " '2016-07-31']\n"
     ]
    }
   ],
   "source": [
    "x= np.arange('2016-07', '2016-08', dtype='datetime64[D]')\n",
    "print(x)"
   ]
  },
  {
   "cell_type": "markdown",
   "metadata": {},
   "source": [
    "**35. How to compute ((A+B)*(-A/2)) in place (without copy)? (★★☆)**"
   ]
  },
  {
   "cell_type": "code",
   "execution_count": null,
   "metadata": {},
   "outputs": [],
   "source": []
  },
  {
   "cell_type": "markdown",
   "metadata": {},
   "source": [
    "**37. Create a 5x5 matrix with row values ranging from 0 to 4 (★★☆)**"
   ]
  },
  {
   "cell_type": "code",
   "execution_count": 248,
   "metadata": {},
   "outputs": [
    {
     "name": "stdout",
     "output_type": "stream",
     "text": [
      "[[0 1 2 3 4]\n",
      " [0 1 2 3 4]\n",
      " [0 1 2 3 4]\n",
      " [0 1 2 3 4]\n",
      " [0 1 2 3 4]]\n"
     ]
    }
   ],
   "source": [
    "np.tile(np.arange(0, 5, dtype=int_), (5, 1))\n",
    "print(x)"
   ]
  },
  {
   "cell_type": "markdown",
   "metadata": {},
   "source": [
    "**38. Consider a generator function that generates 10 integers and use it to build an array (★☆☆)**"
   ]
  },
  {
   "cell_type": "code",
   "execution_count": null,
   "metadata": {},
   "outputs": [],
   "source": []
  },
  {
   "cell_type": "markdown",
   "metadata": {},
   "source": [
    "**39. Create a vector of size 10 with values ranging from 0 to 1, both excluded (★★☆)**"
   ]
  },
  {
   "cell_type": "code",
   "execution_count": 260,
   "metadata": {},
   "outputs": [
    {
     "data": {
      "text/plain": [
       "array([0.1, 0.2, 0.3, 0.4, 0.5, 0.6, 0.7, 0.8, 0.9])"
      ]
     },
     "execution_count": 260,
     "metadata": {},
     "output_type": "execute_result"
    }
   ],
   "source": [
    "np.arange(1, 10,dtype=float_)/10"
   ]
  },
  {
   "cell_type": "markdown",
   "metadata": {},
   "source": [
    "**40. Create a random vector of size 10 and sort it (★★☆)**"
   ]
  },
  {
   "cell_type": "code",
   "execution_count": 265,
   "metadata": {},
   "outputs": [
    {
     "name": "stdout",
     "output_type": "stream",
     "text": [
      "[0.74476036 0.59509934 0.57048494 0.02671664 0.25657075 0.00675294\n",
      " 0.43484885 0.21915349 0.02468972 0.26548876]\n",
      "\n"
     ]
    },
    {
     "data": {
      "text/plain": [
       "array([0.00675294, 0.02468972, 0.02671664, 0.21915349, 0.25657075,\n",
       "       0.26548876, 0.43484885, 0.57048494, 0.59509934, 0.74476036])"
      ]
     },
     "execution_count": 265,
     "metadata": {},
     "output_type": "execute_result"
    }
   ],
   "source": [
    "arr=np.random.rand(10)\n",
    "print(arr)\n",
    "print(\"\")\n",
    "np.sort(arr)"
   ]
  },
  {
   "cell_type": "markdown",
   "metadata": {},
   "source": [
    "**41. How to sum a small array faster than np.sum? (★★☆)**"
   ]
  },
  {
   "cell_type": "code",
   "execution_count": null,
   "metadata": {},
   "outputs": [],
   "source": []
  },
  {
   "cell_type": "markdown",
   "metadata": {},
   "source": [
    "**42. Consider two random array A and B, check if they are equal (★★☆)**"
   ]
  },
  {
   "cell_type": "code",
   "execution_count": 268,
   "metadata": {},
   "outputs": [
    {
     "data": {
      "text/plain": [
       "False"
      ]
     },
     "execution_count": 268,
     "metadata": {},
     "output_type": "execute_result"
    }
   ],
   "source": [
    "A=np.random.rand(5)\n",
    "B=np.random.rand(5)\n",
    "np.array_equal(A,B)"
   ]
  },
  {
   "cell_type": "markdown",
   "metadata": {},
   "source": [
    "**43. Make an array immutable (read-only) (★★☆)**"
   ]
  },
  {
   "cell_type": "code",
   "execution_count": 270,
   "metadata": {},
   "outputs": [],
   "source": [
    "a = np.arange(10)\n",
    "a.flags.writeable = False"
   ]
  },
  {
   "cell_type": "markdown",
   "metadata": {},
   "source": [
    "**44. Consider a random 10x2 matrix representing cartesian coordinates, convert them to polar coordinates (★★☆)**"
   ]
  },
  {
   "cell_type": "code",
   "execution_count": 332,
   "metadata": {},
   "outputs": [
    {
     "name": "stdout",
     "output_type": "stream",
     "text": [
      "[[0.02583056 0.09163324]\n",
      " [0.68744042 0.56588772]\n",
      " [0.54496937 0.4232269 ]\n",
      " [0.38761107 0.4659811 ]\n",
      " [0.75052102 0.10551765]\n",
      " [0.6934114  0.01061406]\n",
      " [0.3056603  0.96509913]\n",
      " [0.94562125 0.60428656]\n",
      " [0.08164908 0.31854293]\n",
      " [0.62565303 0.1716229 ]]\n",
      "\n",
      "[[0.09520435 0.27476114]\n",
      " [0.89039499 0.88207974]\n",
      " [0.69000915 0.91048321]\n",
      " [0.6061194  0.69384281]\n",
      " [0.75790222 1.4311193 ]\n",
      " [0.69349263 1.55549051]\n",
      " [1.01234607 0.30671924]\n",
      " [1.1222129  1.00216691]\n",
      " [0.32884065 0.25091846]\n",
      " [0.64876509 1.3030717 ]]\n"
     ]
    }
   ],
   "source": [
    "cCartesiana=np.random.rand(10,2)\n",
    "print(cCartesiana)\n",
    "\n",
    "print(\"\")\n",
    "\n",
    "cPolar=np.zeros((10,2))\n",
    "\n",
    "for cont in range(0, 10):\n",
    "    cPolar[cont,0]=math.sqrt(cCartesiana[cont,0]**2+cCartesiana[cont,1]**2)\n",
    "    cPolar[cont,1]=math.atan(cCartesiana[cont,0]/cCartesiana[cont,1])      \n",
    "        \n",
    "print(cPolar)\n",
    "    "
   ]
  },
  {
   "cell_type": "markdown",
   "metadata": {},
   "source": [
    "**45. Create a random vector of size 10 and replace the maximum value by 0 (★★☆)**"
   ]
  },
  {
   "cell_type": "code",
   "execution_count": 287,
   "metadata": {},
   "outputs": [
    {
     "name": "stdout",
     "output_type": "stream",
     "text": [
      "arr1         :  [2, 3, 4, 5, 6]\n",
      "\n",
      "Output array :  [ 4  9 16 25 36]\n"
     ]
    }
   ],
   "source": [
    "\n",
    "arr2 = [2, 3, 4, 5, 6] \n",
    "print (\"arr2         : \", arr2) \n",
    "  \n",
    "out = np.power(arr2, 2) \n",
    "print (\"\\nOutput array : \", out) "
   ]
  },
  {
   "cell_type": "markdown",
   "metadata": {},
   "source": [
    "**46. Create a structured array with x and y coordinates covering the [0,1]x[0,1] area (★★☆)**"
   ]
  },
  {
   "cell_type": "code",
   "execution_count": null,
   "metadata": {},
   "outputs": [],
   "source": []
  },
  {
   "cell_type": "markdown",
   "metadata": {},
   "source": [
    "**47. Given two arrays, X and Y, construct the Cauchy matrix C (Cij =1/(xi - yj))**"
   ]
  },
  {
   "cell_type": "code",
   "execution_count": null,
   "metadata": {},
   "outputs": [],
   "source": []
  },
  {
   "cell_type": "markdown",
   "metadata": {},
   "source": [
    "**48. Print the minimum and maximum representable value for each numpy scalar type (★★☆)**"
   ]
  },
  {
   "cell_type": "code",
   "execution_count": null,
   "metadata": {},
   "outputs": [],
   "source": []
  },
  {
   "cell_type": "markdown",
   "metadata": {},
   "source": [
    "**49. How to print all the values of an array? (★★☆)**"
   ]
  },
  {
   "cell_type": "code",
   "execution_count": null,
   "metadata": {},
   "outputs": [],
   "source": [
    "\n",
    "arr2 = [2, 3, 4, 5, 6] \n",
    "print (\"arr1         : \", arr2) "
   ]
  },
  {
   "cell_type": "markdown",
   "metadata": {},
   "source": [
    "**50. How to find the closest value (to a given scalar) in a vector? (★★☆)**"
   ]
  },
  {
   "cell_type": "code",
   "execution_count": null,
   "metadata": {},
   "outputs": [],
   "source": []
  },
  {
   "cell_type": "markdown",
   "metadata": {},
   "source": [
    "**51. Create a structured array representing a position (x,y) and a color (r,g,b) (★★☆)**"
   ]
  },
  {
   "cell_type": "code",
   "execution_count": null,
   "metadata": {},
   "outputs": [],
   "source": []
  },
  {
   "cell_type": "markdown",
   "metadata": {},
   "source": [
    "**52. Consider a random vector with shape (100,2) representing coordinates, find point by point distances (★★☆)**"
   ]
  },
  {
   "cell_type": "code",
   "execution_count": null,
   "metadata": {},
   "outputs": [],
   "source": []
  },
  {
   "cell_type": "markdown",
   "metadata": {},
   "source": [
    "**53. How to convert a float (32 bits) array into an integer (32 bits) in place?**"
   ]
  },
  {
   "cell_type": "code",
   "execution_count": null,
   "metadata": {},
   "outputs": [],
   "source": []
  },
  {
   "cell_type": "markdown",
   "metadata": {},
   "source": [
    "**54. How to read the following file? (★★☆)**"
   ]
  },
  {
   "cell_type": "code",
   "execution_count": null,
   "metadata": {},
   "outputs": [],
   "source": []
  },
  {
   "cell_type": "markdown",
   "metadata": {},
   "source": [
    "**55. What is the equivalent of enumerate for numpy arrays? (★★☆)**"
   ]
  },
  {
   "cell_type": "code",
   "execution_count": null,
   "metadata": {},
   "outputs": [],
   "source": []
  },
  {
   "cell_type": "markdown",
   "metadata": {},
   "source": [
    "**56. Generate a generic 2D Gaussian-like array (★★☆)**"
   ]
  },
  {
   "cell_type": "code",
   "execution_count": null,
   "metadata": {},
   "outputs": [],
   "source": []
  },
  {
   "cell_type": "markdown",
   "metadata": {},
   "source": [
    "**57. How to randomly place p elements in a 2D array? (★★☆)**"
   ]
  },
  {
   "cell_type": "code",
   "execution_count": null,
   "metadata": {},
   "outputs": [],
   "source": []
  },
  {
   "cell_type": "markdown",
   "metadata": {},
   "source": [
    "**58. Subtract the mean of each row of a matrix (★★☆)**"
   ]
  },
  {
   "cell_type": "code",
   "execution_count": null,
   "metadata": {},
   "outputs": [],
   "source": []
  },
  {
   "cell_type": "markdown",
   "metadata": {},
   "source": [
    "**59. How to sort an array by the nth column? (★★☆)**"
   ]
  },
  {
   "cell_type": "code",
   "execution_count": null,
   "metadata": {},
   "outputs": [],
   "source": []
  },
  {
   "cell_type": "markdown",
   "metadata": {},
   "source": [
    "**60. How to tell if a given 2D array has null columns? (★★☆)**"
   ]
  },
  {
   "cell_type": "code",
   "execution_count": null,
   "metadata": {},
   "outputs": [],
   "source": []
  },
  {
   "cell_type": "markdown",
   "metadata": {},
   "source": [
    "**61. Find the nearest value from a given value in an array (★★☆)**"
   ]
  },
  {
   "cell_type": "code",
   "execution_count": null,
   "metadata": {},
   "outputs": [],
   "source": []
  },
  {
   "cell_type": "markdown",
   "metadata": {},
   "source": [
    "**62. Considering two arrays with shape (1,3) and (3,1), how to compute their sum using an iterator? (★★☆)**"
   ]
  },
  {
   "cell_type": "code",
   "execution_count": null,
   "metadata": {},
   "outputs": [],
   "source": []
  },
  {
   "cell_type": "markdown",
   "metadata": {},
   "source": [
    "**63. Create an array class that has a name attribute (★★☆)**"
   ]
  },
  {
   "cell_type": "code",
   "execution_count": null,
   "metadata": {},
   "outputs": [],
   "source": []
  },
  {
   "cell_type": "markdown",
   "metadata": {},
   "source": [
    "**64. Consider a given vector, how to add 1 to each element indexed by a second vector (be careful with repeated indices)? (★★★)**"
   ]
  },
  {
   "cell_type": "code",
   "execution_count": null,
   "metadata": {},
   "outputs": [],
   "source": []
  },
  {
   "cell_type": "markdown",
   "metadata": {},
   "source": [
    "**65. How to accumulate elements of a vector (X) to an array (F) based on an index list (I)? (★★★)****"
   ]
  },
  {
   "cell_type": "code",
   "execution_count": null,
   "metadata": {},
   "outputs": [],
   "source": []
  },
  {
   "cell_type": "markdown",
   "metadata": {},
   "source": [
    "**66. Considering a (w,h,3) image of (dtype=ubyte), compute the number of unique colors (★★★)**"
   ]
  },
  {
   "cell_type": "code",
   "execution_count": null,
   "metadata": {},
   "outputs": [],
   "source": []
  },
  {
   "cell_type": "markdown",
   "metadata": {},
   "source": [
    "**67. Considering a four dimensions array, how to get sum over the last two axis at once? (★★★)**"
   ]
  },
  {
   "cell_type": "code",
   "execution_count": null,
   "metadata": {},
   "outputs": [],
   "source": []
  },
  {
   "cell_type": "markdown",
   "metadata": {},
   "source": [
    "**68. Considering a one-dimensional vector D, how to compute means of subsets of D using a vector S of same size describing subset indices? (★★★)**"
   ]
  },
  {
   "cell_type": "code",
   "execution_count": null,
   "metadata": {},
   "outputs": [],
   "source": []
  },
  {
   "cell_type": "markdown",
   "metadata": {},
   "source": [
    "**69. How to get the diagonal of a dot product? (★★★)**"
   ]
  },
  {
   "cell_type": "code",
   "execution_count": null,
   "metadata": {},
   "outputs": [],
   "source": []
  },
  {
   "cell_type": "markdown",
   "metadata": {},
   "source": [
    "**70. Consider the vector [1, 2, 3, 4, 5], how to build a new vector with 3 consecutive zeros interleaved between each value? (★★★)**"
   ]
  },
  {
   "cell_type": "code",
   "execution_count": null,
   "metadata": {},
   "outputs": [],
   "source": []
  },
  {
   "cell_type": "markdown",
   "metadata": {},
   "source": [
    "**71. Consider an array of dimension (5,5,3), how to mulitply it by an array with dimensions (5,5)? (★★★)**"
   ]
  },
  {
   "cell_type": "code",
   "execution_count": null,
   "metadata": {},
   "outputs": [],
   "source": []
  },
  {
   "cell_type": "markdown",
   "metadata": {},
   "source": [
    "**72. How to swap two rows of an array? (★★★)**"
   ]
  },
  {
   "cell_type": "code",
   "execution_count": null,
   "metadata": {},
   "outputs": [],
   "source": []
  },
  {
   "cell_type": "markdown",
   "metadata": {},
   "source": [
    "**73. Consider a set of 10 triplets describing 10 triangles (with shared vertices), find the set of unique line segments composing all the triangles (★★★)**"
   ]
  },
  {
   "cell_type": "code",
   "execution_count": null,
   "metadata": {},
   "outputs": [],
   "source": []
  },
  {
   "cell_type": "markdown",
   "metadata": {},
   "source": [
    "**74. Given an array C that is a bincount, how to produce an array A such that np.bincount(A) == C? (★★★)**"
   ]
  },
  {
   "cell_type": "code",
   "execution_count": null,
   "metadata": {},
   "outputs": [],
   "source": []
  },
  {
   "cell_type": "markdown",
   "metadata": {},
   "source": [
    "**75. How to compute averages using a sliding window over an array? (★★★)**"
   ]
  },
  {
   "cell_type": "code",
   "execution_count": null,
   "metadata": {},
   "outputs": [],
   "source": []
  },
  {
   "cell_type": "markdown",
   "metadata": {},
   "source": [
    "**76. Consider a one-dimensional array Z, build a two-dimensional array whose first row is (Z[0],Z[1],Z[2]) and each subsequent row is shifted by 1 (last row should be (Z[-3],Z[-2],Z[-1]) (★★★)**"
   ]
  },
  {
   "cell_type": "code",
   "execution_count": null,
   "metadata": {},
   "outputs": [],
   "source": []
  },
  {
   "cell_type": "markdown",
   "metadata": {},
   "source": [
    "**77. How to negate a boolean, or to change the sign of a float inplace? (★★★)**"
   ]
  },
  {
   "cell_type": "code",
   "execution_count": null,
   "metadata": {},
   "outputs": [],
   "source": []
  },
  {
   "cell_type": "markdown",
   "metadata": {},
   "source": [
    "**78. Consider 2 sets of points P0,P1 describing lines (2d) and a point p, how to compute distance from p to each line i (P0[i],P1[i])? (★★★)**"
   ]
  },
  {
   "cell_type": "code",
   "execution_count": null,
   "metadata": {},
   "outputs": [],
   "source": []
  },
  {
   "cell_type": "markdown",
   "metadata": {},
   "source": [
    "**79. Consider 2 sets of points P0,P1 describing lines (2d) and a set of points P, how to compute distance from each point j (P[j]) to each line i (P0[i],P1[i])? (★★★)**"
   ]
  },
  {
   "cell_type": "code",
   "execution_count": null,
   "metadata": {},
   "outputs": [],
   "source": []
  },
  {
   "cell_type": "markdown",
   "metadata": {},
   "source": [
    "**80. Consider an arbitrary array, write a function that extract a subpart with a fixed shape and centered on a given element (pad with a fill value when necessary) (★★★)**"
   ]
  },
  {
   "cell_type": "code",
   "execution_count": null,
   "metadata": {},
   "outputs": [],
   "source": []
  },
  {
   "cell_type": "markdown",
   "metadata": {},
   "source": [
    "**81. Consider an array Z = [1,2,3,4,5,6,7,8,9,10,11,12,13,14], how to generate an array R = [[1,2,3,4], [2,3,4,5], [3,4,5,6], ..., [11,12,13,14]]? (★★★)**"
   ]
  },
  {
   "cell_type": "code",
   "execution_count": null,
   "metadata": {},
   "outputs": [],
   "source": []
  },
  {
   "cell_type": "markdown",
   "metadata": {},
   "source": [
    "**82. Compute a matrix rank (★★★)**"
   ]
  },
  {
   "cell_type": "code",
   "execution_count": null,
   "metadata": {},
   "outputs": [],
   "source": []
  },
  {
   "cell_type": "markdown",
   "metadata": {},
   "source": [
    "**83. How to find the most frequent value in an array?**"
   ]
  },
  {
   "cell_type": "code",
   "execution_count": null,
   "metadata": {},
   "outputs": [],
   "source": []
  },
  {
   "cell_type": "markdown",
   "metadata": {},
   "source": [
    "**84. Extract all the contiguous 3x3 blocks from a random 10x10 matrix (★★★)**"
   ]
  },
  {
   "cell_type": "code",
   "execution_count": null,
   "metadata": {},
   "outputs": [],
   "source": []
  },
  {
   "cell_type": "markdown",
   "metadata": {},
   "source": [
    "**85. Create a 2D array subclass such that Z[i,j] == Z[j,i] (★★★)**"
   ]
  },
  {
   "cell_type": "code",
   "execution_count": null,
   "metadata": {},
   "outputs": [],
   "source": []
  },
  {
   "cell_type": "markdown",
   "metadata": {},
   "source": [
    "**86. Consider a set of p matrices wich shape (n,n) and a set of p vectors with shape (n,1). How to compute the sum of of the p matrix products at once? (result has shape (n,1)) (★★★)**"
   ]
  },
  {
   "cell_type": "code",
   "execution_count": null,
   "metadata": {},
   "outputs": [],
   "source": []
  },
  {
   "cell_type": "markdown",
   "metadata": {},
   "source": [
    "**87. Consider a 16x16 array, how to get the block-sum (block size is 4x4)? (★★★)**"
   ]
  },
  {
   "cell_type": "code",
   "execution_count": null,
   "metadata": {},
   "outputs": [],
   "source": []
  },
  {
   "cell_type": "markdown",
   "metadata": {},
   "source": [
    "**88. How to implement the Game of Life using numpy arrays? (★★★)**"
   ]
  },
  {
   "cell_type": "code",
   "execution_count": null,
   "metadata": {},
   "outputs": [],
   "source": []
  },
  {
   "cell_type": "markdown",
   "metadata": {},
   "source": [
    "**89. How to get the n largest values of an array (★★★)**"
   ]
  },
  {
   "cell_type": "code",
   "execution_count": null,
   "metadata": {},
   "outputs": [],
   "source": []
  },
  {
   "cell_type": "markdown",
   "metadata": {},
   "source": [
    "**90. Given an arbitrary number of vectors, build the cartesian product (every combinations of every item) (★★★)**"
   ]
  },
  {
   "cell_type": "code",
   "execution_count": null,
   "metadata": {},
   "outputs": [],
   "source": []
  },
  {
   "cell_type": "markdown",
   "metadata": {},
   "source": [
    "**91. How to create a record array from a regular array? (★★★)**"
   ]
  },
  {
   "cell_type": "code",
   "execution_count": null,
   "metadata": {},
   "outputs": [],
   "source": []
  },
  {
   "cell_type": "markdown",
   "metadata": {},
   "source": [
    "**92. Consider a large vector Z, compute Z to the power of 3 using 3 different methods (★★★)**"
   ]
  },
  {
   "cell_type": "code",
   "execution_count": null,
   "metadata": {},
   "outputs": [],
   "source": []
  },
  {
   "cell_type": "markdown",
   "metadata": {},
   "source": [
    "**93. Consider two arrays A and B of shape (8,3) and (2,2). How to find rows of A that contain elements of each row of B regardless of the order of the elements in B? (★★★)**"
   ]
  },
  {
   "cell_type": "code",
   "execution_count": null,
   "metadata": {},
   "outputs": [],
   "source": []
  },
  {
   "cell_type": "markdown",
   "metadata": {},
   "source": [
    "**94. Considering a 10x3 matrix, extract rows with unequal values (e.g. [2,2,3]) (★★★)**"
   ]
  },
  {
   "cell_type": "code",
   "execution_count": null,
   "metadata": {},
   "outputs": [],
   "source": []
  },
  {
   "cell_type": "markdown",
   "metadata": {},
   "source": [
    "**95. Convert a vector of ints into a matrix binary representation (★★★)**"
   ]
  },
  {
   "cell_type": "code",
   "execution_count": null,
   "metadata": {},
   "outputs": [],
   "source": []
  },
  {
   "cell_type": "markdown",
   "metadata": {},
   "source": [
    "**96. Given a two dimensional array, how to extract unique rows? (★★★)**"
   ]
  },
  {
   "cell_type": "code",
   "execution_count": null,
   "metadata": {},
   "outputs": [],
   "source": []
  },
  {
   "cell_type": "markdown",
   "metadata": {},
   "source": [
    "**97. Considering 2 vectors A & B, write the einsum equivalent of inner, outer, sum, and mul function (★★★)**"
   ]
  },
  {
   "cell_type": "code",
   "execution_count": null,
   "metadata": {},
   "outputs": [],
   "source": []
  },
  {
   "cell_type": "markdown",
   "metadata": {},
   "source": [
    "**98. Considering a path described by two vectors (X,Y), how to sample it using equidistant samples (★★★)?**"
   ]
  },
  {
   "cell_type": "code",
   "execution_count": null,
   "metadata": {},
   "outputs": [],
   "source": []
  },
  {
   "cell_type": "markdown",
   "metadata": {},
   "source": [
    "**99. Given an integer n and a 2D array X, select from X the rows which can be interpreted as draws from a multinomial distribution with n degrees, i.e., the rows which only contain integers and which sum to n. (★★★)**"
   ]
  },
  {
   "cell_type": "code",
   "execution_count": null,
   "metadata": {},
   "outputs": [],
   "source": []
  },
  {
   "cell_type": "markdown",
   "metadata": {},
   "source": [
    "**100. Compute bootstrapped 95% confidence intervals for the mean of a 1D array X (i.e., resample the elements of an array with replacement N times, compute the mean of each sample, and then compute percentiles over the means). (★★★)**"
   ]
  },
  {
   "cell_type": "code",
   "execution_count": null,
   "metadata": {},
   "outputs": [],
   "source": []
  }
 ],
 "metadata": {
  "kernelspec": {
   "display_name": "Python 3",
   "language": "python",
   "name": "python3"
  },
  "language_info": {
   "codemirror_mode": {
    "name": "ipython",
    "version": 3
   },
   "file_extension": ".py",
   "mimetype": "text/x-python",
   "name": "python",
   "nbconvert_exporter": "python",
   "pygments_lexer": "ipython3",
   "version": "3.8.5"
  }
 },
 "nbformat": 4,
 "nbformat_minor": 2
}
